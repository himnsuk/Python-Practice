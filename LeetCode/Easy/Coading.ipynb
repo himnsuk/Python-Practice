{
  "nbformat": 4,
  "nbformat_minor": 0,
  "metadata": {
    "language_info": {
      "codemirror_mode": {
        "name": "ipython",
        "version": 3
      },
      "file_extension": ".py",
      "mimetype": "text/x-python",
      "name": "python",
      "nbconvert_exporter": "python",
      "pygments_lexer": "ipython3",
      "version": "3.7.3"
    },
    "orig_nbformat": 2,
    "kernelspec": {
      "name": "python373jvsc74a57bd0e534e48711db4d1e1c48977d0d14ff85b1f16d41bcc4fdfd88268a329b3c9d66",
      "display_name": "Python 3.7.3 64-bit"
    },
    "colab": {
      "name": "Coading.ipynb",
      "provenance": [],
      "include_colab_link": true
    }
  },
  "cells": [
    {
      "cell_type": "markdown",
      "metadata": {
        "id": "view-in-github",
        "colab_type": "text"
      },
      "source": [
        "<a href=\"https://colab.research.google.com/github/himnsuk/Python-Practice/blob/master/LeetCode/Easy/Coading.ipynb\" target=\"_parent\"><img src=\"https://colab.research.google.com/assets/colab-badge.svg\" alt=\"Open In Colab\"/></a>"
      ]
    },
    {
      "cell_type": "markdown",
      "metadata": {
        "id": "LDtfKkDOyXdE"
      },
      "source": [
        "# 2\n",
        "Given a signed 32-bit integer x, return x with its digits reversed. If reversing x causes the value to go outside the signed 32-bit integer range [-231, 231 - 1], then return 0.\n",
        "\n",
        "Assume the environment does not allow you to store 64-bit integers (signed or unsigned).\n",
        "\n",
        " \n",
        "\n",
        "Example 1:\n",
        "\n",
        "Input: x = 123\n",
        "Output: 321\n",
        "Example 2:\n",
        "\n",
        "Input: x = -123\n",
        "Output: -321\n",
        "Example 3:\n",
        "\n",
        "Input: x = 120\n",
        "Output: 21\n",
        "Example 4:\n",
        "\n",
        "Input: x = 0\n",
        "Output: 0"
      ]
    },
    {
      "cell_type": "markdown",
      "metadata": {
        "id": "sjgjUO7-yXdF"
      },
      "source": [
        "First Iteration of Code"
      ]
    },
    {
      "cell_type": "code",
      "metadata": {
        "id": "ppZS5so4yXdF",
        "outputId": "8a15cd62-1e0e-478b-b21f-6fc8841ec0df"
      },
      "source": [
        "# First Iteration\n",
        "def reverse_integer(x):\n",
        "    \"\"\"\n",
        "    :type x: int\n",
        "    :rtype: int\n",
        "    \"\"\"\n",
        "    if x <= (-2**31) or x >= (2**31) - 1:\n",
        "        return 0\n",
        "    sign = 1\n",
        "    if x < 0:\n",
        "        sign = -1\n",
        "        x = -1*x\n",
        "    store = []\n",
        "    while(x != 0):\n",
        "        store.append(x % 10)\n",
        "        x = x//10\n",
        "\n",
        "    reverse_num = 0\n",
        "    for ind, y in enumerate(reversed(store)):\n",
        "        reverse_num += y*(10**ind)\n",
        "\n",
        "    return reverse_num*sign\n",
        "\n",
        "\n",
        "print(reverse_integer(1534236469))"
      ],
      "execution_count": null,
      "outputs": [
        {
          "output_type": "stream",
          "text": [
            "9646324351\n"
          ],
          "name": "stdout"
        }
      ]
    },
    {
      "cell_type": "markdown",
      "metadata": {
        "id": "6n8Zjpn7yXdG"
      },
      "source": [
        "Second Iteration"
      ]
    },
    {
      "cell_type": "code",
      "metadata": {
        "id": "uoXF6j7PyXdH",
        "outputId": "4e523db2-c806-4786-8b6b-4bab46e96c92"
      },
      "source": [
        "# Second Iteration\n",
        "def reverse_integer(x):\n",
        "    \"\"\"\n",
        "    :type x: int\n",
        "    :rtype: int\n",
        "    \"\"\"\n",
        "    if x <= -2147483648 or x >= 2147483647:\n",
        "        return 0\n",
        "    sign = 1\n",
        "    if x < 0:\n",
        "        sign = -1\n",
        "        x = -1*x\n",
        "    ans = 0\n",
        "    while(x != 0):\n",
        "        ans *= 10\n",
        "        ans += x % 10\n",
        "        x = x//10\n",
        "\n",
        "    # reverse_num = 0\n",
        "    # for ind, y in enumerate(reversed(store)):\n",
        "    #     reverse_num += y*(10**ind)\n",
        "    if ans >= 2147483647 or ans <= -2147483648:\n",
        "        return 0\n",
        "    return ans*sign\n",
        "\n",
        "\n",
        "print(reverse_integer(1534236469))\n",
        "print(reverse_integer(-1453))"
      ],
      "execution_count": null,
      "outputs": [
        {
          "output_type": "stream",
          "text": [
            "0\n",
            "-3541\n"
          ],
          "name": "stdout"
        }
      ]
    },
    {
      "cell_type": "markdown",
      "metadata": {
        "id": "c2DDtrYMyXdH"
      },
      "source": [
        "# 3\n",
        "\n",
        "Given an integer x, return true if x is palindrome integer.\n",
        "\n",
        "An integer is a palindrome when it reads the same backward as forward. For example, 121 is palindrome while 123 is not.\n",
        "\n",
        " \n",
        "\n",
        "Example 1:\n",
        "\n",
        "Input: x = 121\n",
        "Output: true\n",
        "Example 2:\n",
        "\n",
        "Input: x = -121\n",
        "Output: false\n",
        "Explanation: From left to right, it reads -121. From right to left, it becomes 121-. Therefore it is not a palindrome.\n",
        "Example 3:\n",
        "\n",
        "Input: x = 10\n",
        "Output: false\n",
        "Explanation: Reads 01 from right to left. Therefore it is not a palindrome.\n",
        "Example 4:\n",
        "\n",
        "Input: x = -101\n",
        "Output: false"
      ]
    },
    {
      "cell_type": "code",
      "metadata": {
        "id": "tL6noXnfyXdI",
        "outputId": "fc7f837e-1faf-4c6b-971b-7b19ea326d01"
      },
      "source": [
        "#First Iteration\n",
        "def palindrome(x):\n",
        "\n",
        "    if x <= 0 or x >= 2147483647:\n",
        "        return False\n",
        "\n",
        "    ans = 0\n",
        "    y = x\n",
        "    while(x != 0):\n",
        "        ans *= 10\n",
        "        ans += x % 10\n",
        "        x = x//10\n",
        "\n",
        "    if ans >= 2147483647:\n",
        "        return False\n",
        "    return ans == y\n",
        "display(palindrome(121))\n",
        "display(palindrome(112))"
      ],
      "execution_count": null,
      "outputs": [
        {
          "output_type": "display_data",
          "data": {
            "text/plain": [
              "True"
            ]
          },
          "metadata": {
            "tags": []
          }
        },
        {
          "output_type": "display_data",
          "data": {
            "text/plain": [
              "False"
            ]
          },
          "metadata": {
            "tags": []
          }
        }
      ]
    },
    {
      "cell_type": "markdown",
      "metadata": {
        "id": "Aq3w4SD2yXdJ"
      },
      "source": [
        "# 4\n",
        "Roman numerals are represented by seven different symbols: I, V, X, L, C, D and M.\n",
        "\n",
        "\n",
        "|Symbol|Value|\n",
        "| --- |:--- |\n",
        "|I|1|\n",
        "|V|5|\n",
        "|X|10|\n",
        "|L|50|\n",
        "|C|100|\n",
        "|D|500|\n",
        "|M|1000|\n",
        "\n",
        "For example, 2 is written as II in Roman numeral, just two one's added together. 12 is written as XII, which is simply X + II. The number 27 is written as XXVII, which is XX + V + II.\n",
        "\n",
        "Roman numerals are usually written largest to smallest from left to right. However, the numeral for four is not IIII. Instead, the number four is written as IV. Because the one is before the five we subtract it making four. The same principle applies to the number nine, which is written as IX. There are six instances where subtraction is used:\n",
        "\n",
        "I can be placed before V (5) and X (10) to make 4 and 9. \n",
        "X can be placed before L (50) and C (100) to make 40 and 90. \n",
        "C can be placed before D (500) and M (1000) to make 400 and 900.\n",
        "Given a roman numeral, convert it to an integer.\n",
        "\n",
        " \n",
        "\n",
        "Example 1:\n",
        "\n",
        "Input: s = \"III\"\n",
        "Output: 3\n",
        "\n",
        "Example 2:\n",
        "\n",
        "Input: s = \"IV\"\n",
        "Output: 4\n",
        "\n",
        "Example 3:\n",
        "\n",
        "Input: s = \"IX\"\n",
        "Output: 9\n",
        "\n",
        "Example 4:\n",
        "\n",
        "Input: s = \"LVIII\"\n",
        "Output: 58\n",
        "\n",
        "Explanation: L = 50, V= 5, III = 3.\n",
        "Example 5:\n",
        "\n",
        "Input: s = \"MCMXCIV\"\n",
        "Output: 1994\n",
        "Explanation: M = 1000, CM = 900, XC = 90 and IV = 4.\n",
        " \n",
        "\n",
        "Constraints:\n",
        "\n",
        "1 <= s.length <= 15\n",
        "s contains only the characters ('I', 'V', 'X', 'L', 'C', 'D', 'M').\n",
        "It is guaranteed that s is a valid roman numeral in the range [1, 3999]."
      ]
    },
    {
      "cell_type": "code",
      "metadata": {
        "id": "0zDStjtPyXdJ",
        "outputId": "baea5f8d-a264-4233-f510-114f7a9f0bb7"
      },
      "source": [
        "def romanToInt(s):\n",
        "    \"\"\"\n",
        "    :type s: str\n",
        "    :rtype: int\n",
        "    \"\"\"\n",
        "    if len(s) < 1 or len(s) > 15:\n",
        "        return 0\n",
        "    roman_dict = {\"I\": 1,  \"V\": 5,  \"X\": 10, \"L\": 50, \"C\": 100, \"D\": 500,  \"M\": 1000}\n",
        "\n",
        "    ans = roman_dict[s[-1]]\n",
        "    for rom in range(len(s) - 2, -1, -1):\n",
        "        if roman_dict[s[rom+1]] > roman_dict[s[rom]]:\n",
        "            ans -= roman_dict[s[rom]]\n",
        "        else:\n",
        "            ans += roman_dict[s[rom]]\n",
        "    \n",
        "    return ans\n",
        "\n",
        "display(romanToInt(\"IV\"))\n",
        "\n",
        "display(romanToInt(\"LVIII\"))\n",
        "\n",
        "display(romanToInt(\"MCMXCIV\"))\n",
        "\n",
        "display(romanToInt(\"V\"))\n"
      ],
      "execution_count": null,
      "outputs": [
        {
          "output_type": "display_data",
          "data": {
            "text/plain": [
              "4"
            ]
          },
          "metadata": {
            "tags": []
          }
        },
        {
          "output_type": "display_data",
          "data": {
            "text/plain": [
              "58"
            ]
          },
          "metadata": {
            "tags": []
          }
        },
        {
          "output_type": "display_data",
          "data": {
            "text/plain": [
              "1994"
            ]
          },
          "metadata": {
            "tags": []
          }
        },
        {
          "output_type": "display_data",
          "data": {
            "text/plain": [
              "5"
            ]
          },
          "metadata": {
            "tags": []
          }
        }
      ]
    },
    {
      "cell_type": "markdown",
      "metadata": {
        "id": "Y_C06HtOyXdK"
      },
      "source": [
        "\n",
        "# 5\n",
        "\n",
        "Write a function to find the longest common prefix string amongst an array of strings.\n",
        "\n",
        "If there is no common prefix, return an empty string \"\".\n",
        "\n",
        " \n",
        "\n",
        "Example 1:\n",
        "\n",
        "Input: strs = [\"flower\",\"flow\",\"flight\"]\n",
        "Output: \"fl\"\n",
        "\n",
        "Example 2:\n",
        "\n",
        "Input: strs = [\"dog\",\"racecar\",\"car\"]\n",
        "Output: \"\"\n",
        "\n",
        "Explanation: There is no common prefix among the input strings.\n",
        " \n",
        "\n",
        "Constraints:\n",
        "\n",
        "1 <= strs.length <= 200\n",
        "0 <= strs[i].length <= 200\n",
        "strs[i] consists of only lower-case English letters."
      ]
    },
    {
      "cell_type": "code",
      "metadata": {
        "id": "nkUcQhyfyXdL",
        "outputId": "3bb0419c-205e-4397-c038-4c515c73e16d"
      },
      "source": [
        "def longestCommonPrefix(strs):\n",
        "    \"\"\"\n",
        "    :type strs: List[str]\n",
        "    :rtype: str\n",
        "    \"\"\"\n",
        "    if len(strs) < 1 or len(strs) > 200:\n",
        "        return 0\n",
        "    x = 0\n",
        "    pref = \"\"\n",
        "    while(x >= 0):\n",
        "        if x < len(strs[0]):\n",
        "            let = strs[0][x]\n",
        "            match = True\n",
        "            for st in strs:\n",
        "                if x > len(st):\n",
        "                    match = False\n",
        "                    x = -1\n",
        "                    break\n",
        "                if st[x] != let:\n",
        "                    match = False\n",
        "                    x = -1\n",
        "                    break\n",
        "            if not match:\n",
        "                break\n",
        "            pref += let\n",
        "            x += 1\n",
        "        else:\n",
        "            x = -1\n",
        "    return pref\n",
        "\n",
        "strs = [\"flower\",\"flow\",\"flight\"]\n",
        "print(longestCommonPrefix(strs))\n"
      ],
      "execution_count": null,
      "outputs": [
        {
          "output_type": "stream",
          "text": [
            "fl\n"
          ],
          "name": "stdout"
        }
      ]
    },
    {
      "cell_type": "markdown",
      "metadata": {
        "id": "m_clPhNmyXdL"
      },
      "source": [
        "# 6\n",
        "Given a string s containing just the characters '(', ')', '{', '}', '[' and ']', determine if the input string is valid.\n",
        "\n",
        "An input string is valid if:\n",
        "\n",
        "Open brackets must be closed by the same type of brackets.\n",
        "Open brackets must be closed in the correct order.\n",
        " \n",
        "\n",
        "Example 1:\n",
        "\n",
        "Input: s = \"()\"\n",
        "Output: true\n",
        "\n",
        "\n",
        "Example 2:\n",
        "\n",
        "Input: s = \"()[]{}\"\n",
        "Output: true\n",
        "\n",
        "\n",
        "Example 3:\n",
        "\n",
        "Input: s = \"(]\"\n",
        "Output: false\n",
        "\n",
        "\n",
        "Example 4:\n",
        "\n",
        "Input: s = \"([)]\"\n",
        "Output: false\n",
        "\n",
        "\n",
        "Example 5:\n",
        "\n",
        "Input: s = \"{[]}\"\n",
        "Output: true\n",
        " \n",
        "\n",
        "Constraints:\n",
        "\n",
        "1 <= s.length <= 104\n",
        "s consists of parentheses only '()[]{}'."
      ]
    },
    {
      "cell_type": "code",
      "metadata": {
        "id": "WHx3EvoGyXdM",
        "outputId": "54fc9558-ce4e-4c16-906b-839bff3bf9f2"
      },
      "source": [
        " def isValid(s):\n",
        "        \"\"\"\n",
        "        :type s: str\n",
        "        :rtype: bool\n",
        "        \"\"\"\n",
        "        arr = []\n",
        "        arr.append(s[0])\n",
        "        for i in s[1:]:\n",
        "            if (i == \")\" or i == \"}\" or i == \"]\") and not arr:\n",
        "                return False\n",
        "            elif arr and (i == ')' and arr[-1] == '(') or (i == '}' and arr[-1] == '{') or (i == ']' and arr[-1] == '['):\n",
        "                arr.pop()\n",
        "            else:\n",
        "                arr.append(i)\n",
        "        return len(arr) == 0\n",
        "\n",
        "print(isValid(\"()\"))"
      ],
      "execution_count": null,
      "outputs": [
        {
          "output_type": "stream",
          "text": [
            "True\n"
          ],
          "name": "stdout"
        }
      ]
    },
    {
      "cell_type": "markdown",
      "metadata": {
        "id": "1LrJX4YayXdM"
      },
      "source": [
        "# 7\n",
        "Merge two sorted linked lists and return it as a sorted list. The list should be made by splicing together the nodes of the first two lists.\n",
        "\n",
        " \n",
        "\n",
        "Example 1:\n",
        "\n",
        "\n",
        "Input: l1 = [1,2,4], l2 = [1,3,4]\n",
        "Output: [1,1,2,3,4,4]\n",
        "\n",
        "\n",
        "Example 2:\n",
        "\n",
        "Input: l1 = [], l2 = []\n",
        "Output: []\n",
        "\n",
        "\n",
        "Example 3:\n",
        "\n",
        "Input: l1 = [], l2 = [0]\n",
        "Output: [0]\n",
        " \n",
        "\n",
        "Constraints:\n",
        "\n",
        "The number of nodes in both lists is in the range [0, 50].\n",
        "-100 <= Node.val <= 100\n",
        "Both l1 and l2 are sorted in non-decreasing order.\n",
        "Accepted\n",
        "1,453,227\n",
        "Submissions\n",
        "2,555,889"
      ]
    },
    {
      "cell_type": "code",
      "metadata": {
        "id": "d2dUmjXeyXdM"
      },
      "source": [
        "def mergeTwoLists(l1, l2):\n",
        "    \"\"\"\n",
        "    :type l1: ListNode\n",
        "    :type l2: ListNode\n",
        "    :rtype: ListNode\n",
        "    \"\"\"\n",
        "    \n",
        "    if l1 == None:\n",
        "        return l2\n",
        "    if l2 == None:\n",
        "        return l1\n",
        "    a = l1 if l1.val <= l2.val else l2\n",
        "    b = l1 if l1.val > l2.val else l2\n",
        "    a_prev = a\n",
        "    final = a\n",
        "    \n",
        "    while(a != None and b != None):\n",
        "        if a.val <= b.val:\n",
        "            a_prev = a\n",
        "            a = a.next\n",
        "        else:\n",
        "            temp = ListNode(b.val)\n",
        "            temp.next = a_prev.next\n",
        "            a_prev.next = temp\n",
        "            a_prev = temp\n",
        "            b = b.next\n",
        "        \n",
        "    while(a != None):\n",
        "        a = a.next\n",
        "    \n",
        "    while(b != None):\n",
        "        temp = ListNode(b.val)\n",
        "        a_prev.next = temp\n",
        "        a_prev = temp\n",
        "        b = b.next\n",
        "    \n",
        "    return final"
      ],
      "execution_count": null,
      "outputs": []
    },
    {
      "cell_type": "markdown",
      "metadata": {
        "id": "CShHxMFryXdN"
      },
      "source": [
        "# 8\n",
        "Given a sorted array nums, remove the duplicates in-place such that each element appears only once and returns the new length.\n",
        "\n",
        "Do not allocate extra space for another array, you must do this by modifying the input array in-place with O(1) extra memory.\n",
        "\n",
        "Clarification:\n",
        "\n",
        "Confused why the returned value is an integer but your answer is an array?\n",
        "\n",
        "Note that the input array is passed in by reference, which means a modification to the input array will be known to the caller as well.\n",
        "\n",
        "Internally you can think of this:\n",
        "\n",
        "// nums is passed in by reference. (i.e., without making a copy)\n",
        "int len = removeDuplicates(nums);\n",
        "\n",
        "// any modification to nums in your function would be known by the caller.\n",
        "// using the length returned by your function, it prints the first len elements.\n",
        "for (int i = 0; i < len; i++) {\n",
        "    print(nums[i]);\n",
        "}\n",
        " \n",
        "\n",
        "Example 1:\n",
        "\n",
        "Input: nums = [1,1,2]\n",
        "Output: 2, nums = [1,2]\n",
        "Explanation: Your function should return length = 2, with the first two elements of nums being 1 and 2 respectively. It doesn't matter what you leave beyond the returned length.\n",
        "\n",
        "\n",
        "Example 2:\n",
        "\n",
        "Input: nums = [0,0,1,1,1,2,2,3,3,4]\n",
        "Output: 5, nums = [0,1,2,3,4]\n",
        "Explanation: Your function should return length = 5, with the first five elements of nums being modified to 0, 1, 2, 3, and 4 respectively. It doesn't matter what values are set beyond the returned length.\n",
        " \n",
        "\n",
        "Constraints:\n",
        "\n",
        "0 <= nums.length <= 3 * 104\n",
        "-104 <= nums[i] <= 104\n",
        "nums is sorted in ascending order."
      ]
    },
    {
      "cell_type": "code",
      "metadata": {
        "id": "4f9vBivpyXdN",
        "outputId": "6034cf57-4006-4aa1-a0b1-622e01805fce"
      },
      "source": [
        "def removeDuplicates(nums):\n",
        "        \"\"\"\n",
        "        :type nums: List[int]\n",
        "        :rtype: int\n",
        "        \"\"\"\n",
        "\n",
        "        a, b = 0, 1\n",
        "        if len(nums) == 0:\n",
        "            return []\n",
        "        if len(nums) == 1:\n",
        "            return nums\n",
        "        while(b < len(nums)):\n",
        "            if nums[a] != nums[b]:\n",
        "                nums[a+1] = nums[b]\n",
        "                a += 1\n",
        "            b += 1\n",
        "        return len(nums[:a+1])\n",
        "\n",
        "nums = [0,0,1,1,1,2,2,3,3,4]\n",
        "print(removeDuplicates(nums))"
      ],
      "execution_count": null,
      "outputs": [
        {
          "output_type": "stream",
          "text": [
            "[0, 1, 2, 3, 4]\n"
          ],
          "name": "stdout"
        }
      ]
    },
    {
      "cell_type": "markdown",
      "metadata": {
        "id": "KKjmVVg8yXdO"
      },
      "source": [
        "# 9\n",
        "Given an array nums and a value val, remove all instances of that value in-place and return the new length.\n",
        "\n",
        "Do not allocate extra space for another array, you must do this by modifying the input array in-place with O(1) extra memory.\n",
        "\n",
        "The order of elements can be changed. It doesn't matter what you leave beyond the new length.\n",
        "\n",
        "Clarification:\n",
        "\n",
        "Confused why the returned value is an integer but your answer is an array?\n",
        "\n",
        "Note that the input array is passed in by reference, which means a modification to the input array will be known to the caller as well.\n",
        "\n",
        "Internally you can think of this:\n",
        "\n",
        "// nums is passed in by reference. (i.e., without making a copy)\n",
        "int len = removeElement(nums, val);\n",
        "\n",
        "// any modification to nums in your function would be known by the caller.\n",
        "// using the length returned by your function, it prints the first len elements.\n",
        "for (int i = 0; i < len; i++) {\n",
        "    print(nums[i]);\n",
        "}\n",
        " \n",
        "\n",
        "Example 1:\n",
        "\n",
        "Input: nums = [3,2,2,3], val = 3\n",
        "Output: 2, nums = [2,2]\n",
        "Explanation: Your function should return length = 2, with the first two elements of nums being 2.\n",
        "It doesn't matter what you leave beyond the returned length. For example if you return 2 with nums = [2,2,3,3] or nums = [2,2,0,0], your answer will be accepted.\n",
        "\n",
        "Example 2:\n",
        "\n",
        "Input: nums = [0,1,2,2,3,0,4,2], val = 2\n",
        "Output: 5, nums = [0,1,4,0,3]\n",
        "\n",
        "\n",
        "Explanation: Your function should return length = 5, with the first five elements of nums containing 0, 1, 3, 0, and 4. Note that the order of those five elements can be arbitrary. It doesn't matter what values are set beyond the returned length.\n",
        " \n",
        "\n",
        "Constraints:\n",
        "\n",
        "0 <= nums.length <= 100\n",
        "0 <= nums[i] <= 50\n",
        "0 <= val <= 100"
      ]
    },
    {
      "cell_type": "code",
      "metadata": {
        "id": "X1oxMuRvyXdO",
        "outputId": "f0e9c997-d050-4ae5-de62-b72d827513d6",
        "colab": {
          "base_uri": "https://localhost:8080/"
        }
      },
      "source": [
        "def removeElement(nums, val):\n",
        "    \"\"\"\n",
        "    :type nums: List[int]\n",
        "    :type val: int\n",
        "    :rtype: int\n",
        "    \"\"\"\n",
        "    if len(nums) == 0:\n",
        "        return []\n",
        "    if len(nums) == 1:\n",
        "        if nums[0] == val:\n",
        "            return 0\n",
        "        else:\n",
        "            1\n",
        "    a = 0\n",
        "    b = len(nums) - 1\n",
        "\n",
        "    while a <= b:\n",
        "        if nums[a] == val and nums[b] == val:\n",
        "            b -= 1\n",
        "        elif nums[a] == val and nums[b] != val:\n",
        "            nums[a], nums[b] = nums[b], nums[a]\n",
        "            a += 1\n",
        "            b -= 1\n",
        "        elif nums[a] != val and nums[b] == val:\n",
        "            a += 1\n",
        "            b -= 1\n",
        "        elif nums[a] != val and nums[b] != val:\n",
        "            a += 1\n",
        "\n",
        "    return a\n",
        "\n",
        "nums = [3,2,2,3]\n",
        "\n",
        "print(removeElement(nums, 3))"
      ],
      "execution_count": 1,
      "outputs": [
        {
          "output_type": "stream",
          "text": [
            "2\n"
          ],
          "name": "stdout"
        }
      ]
    },
    {
      "cell_type": "markdown",
      "metadata": {
        "id": "rvi5cm9Vywgz"
      },
      "source": [
        ""
      ]
    }
  ]
}