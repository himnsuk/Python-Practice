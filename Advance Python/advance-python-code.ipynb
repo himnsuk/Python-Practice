{
 "cells": [
  {
   "attachments": {},
   "cell_type": "markdown",
   "metadata": {},
   "source": [
    "Advance Python Topic\n",
    "---"
   ]
  },
  {
   "attachments": {},
   "cell_type": "markdown",
   "metadata": {},
   "source": [
    "| Page                                       | Description                                                                                                                                |\n",
    "|--------------------------------------------|--------------------------------------------------------------------------------------------------------------------------------------------|\n",
    "| 1.  Recursive Functions                    | Introduction to recursive thinking, recursion and recursive functions in Python                                                            |\n",
    "| 2. Iterators and Iterables                 | Differences between Python iterables and iterators. Function to decide if an object is iterable or not.                                    |\n",
    "| 3. Generators and Iterators                | Tutorial and practical introduction to Generators and Iterators in Python                                                                  |\n",
    "| 4. Lambda Operator, filter, reduce and map | Chapter on the Lambda Operator and the functions  map, filter and reduce                                                                   |\n",
    "| 5. zip introduction and examples           | Python Tutorial: An introduction into the zip classes with examples and use cases                                                          |\n",
    "| 6. Decorators and Decoration               | Introduction to decorators.                                                                                                                |\n",
    "| 7. Memoization and Decorators              | Introduction into memoization techniques by using decorators on the recursive Fibonacci sequence function.                                 |\n",
    "| 8. List Comprehension                      | Tutorial on List Comprehension in Python. Guido van Rossum's alternative to lambda, filter, map and reduce.                                |\n",
    "| 9. Currying in Python                      | Currying functions in Python.                                                                                                              |\n",
    "| 10. Tests, DocTests, UnitTests             | Testing Python-Programs with or without special modules like unit-Test and doctest                                                         |\n",
    "| 11. Testing with Pytest                    | Introduction to testing in Python. Introduction in the module pytest                                                                       |\n",
    "| 12. Regular Expressions                    | General introduction into Regular Expression and their usage in Python                                                                     |\n",
    "| 13. Advanced Regular Expressions           | Advanced Regular Expressions in Python. Finding all Matched Substrings and splitting Strings by using regular expression and other topics. |\n"
   ]
  },
  {
   "attachments": {},
   "cell_type": "markdown",
   "metadata": {},
   "source": [
    "### 1.  Recursive Functions                   "
   ]
  },
  {
   "cell_type": "code",
   "execution_count": 3,
   "metadata": {},
   "outputs": [
    {
     "name": "stdout",
     "output_type": "stream",
     "text": [
      "factorial has been called with n = 5\n",
      "factorial has been called with n = 4\n",
      "factorial has been called with n = 3\n",
      "factorial has been called with n = 2\n",
      "factorial has been called with n = 1\n",
      "intermediate result for  2  * factorial( 1 ):  2\n",
      "intermediate result for  3  * factorial( 2 ):  6\n",
      "intermediate result for  4  * factorial( 3 ):  24\n",
      "intermediate result for  5  * factorial( 4 ):  120\n"
     ]
    },
    {
     "data": {
      "text/plain": [
       "120"
      ]
     },
     "execution_count": 3,
     "metadata": {},
     "output_type": "execute_result"
    }
   ],
   "source": [
    "def factorial(n):\n",
    "    print(\"factorial has been called with n = \" + str(n))\n",
    "    if (n == 0 or n == 1):\n",
    "        return 1\n",
    "    else:\n",
    "        res = n * factorial(n-1)\n",
    "        print(\"intermediate result for \", n, \" * factorial(\" ,n-1, \"): \",res)\n",
    "        return res\n",
    "\n",
    "factorial(5)"
   ]
  },
  {
   "cell_type": "code",
   "execution_count": 8,
   "metadata": {},
   "outputs": [],
   "source": [
    "# Fibonacci Series\n",
    "def fib(n):\n",
    "    if n == 0:\n",
    "        return 0\n",
    "    elif n == 1:\n",
    "        return 1\n",
    "    else:\n",
    "        return fib(n - 1) + fib(n - 2)\n",
    "\n",
    "def fibi(n):\n",
    "    old, new = 0, 1\n",
    "    for i in range(n - 1):\n",
    "        old, new = new, old + new\n",
    "    \n",
    "    return new\n",
    "\n",
    "memo = {0:0, 1:1}\n",
    "def fibm(n):\n",
    "    \"\"\" recursive Fibonacci function which memoizes previously \n",
    "    calculated values with the help of a dictionary memo\"\"\"\n",
    "    if not n in memo:\n",
    "        memo[n] = fibm(n-1) + fibm(n-2)\n",
    "    return memo[n]"
   ]
  },
  {
   "cell_type": "code",
   "execution_count": 7,
   "metadata": {},
   "outputs": [
    {
     "name": "stdout",
     "output_type": "stream",
     "text": [
      "n= 1, fib: 0.000001, fibi:  0.000000, time1/time2:       2.50\n",
      "n= 2, fib: 0.000000, fibi:  0.000000, time1/time2:       2.00\n",
      "n= 3, fib: 0.000000, fibi:  0.000000, time1/time2:       1.50\n",
      "n= 4, fib: 0.000000, fibi:  0.000000, time1/time2:       1.33\n",
      "n= 5, fib: 0.000000, fibi:  0.000000, time1/time2:       2.00\n",
      "n= 6, fib: 0.000000, fibi:  0.000000, time1/time2:       1.00\n",
      "n= 7, fib: 0.000000, fibi:  0.000000, time1/time2:       2.00\n",
      "n= 8, fib: 0.000000, fibi:  0.000000, time1/time2:       1.00\n",
      "n= 9, fib: 0.000000, fibi:  0.000000, time1/time2:       1.00\n",
      "n=10, fib: 0.000000, fibi:  0.000000, time1/time2:       2.00\n",
      "n=11, fib: 0.000000, fibi:  0.000000, time1/time2:       0.50\n",
      "n=12, fib: 0.000000, fibi:  0.000000, time1/time2:       1.00\n",
      "n=13, fib: 0.000000, fibi:  0.000000, time1/time2:       1.00\n",
      "n=14, fib: 0.000001, fibi:  0.000000, time1/time2:       3.00\n",
      "n=15, fib: 0.000000, fibi:  0.000001, time1/time2:       0.60\n",
      "n=16, fib: 0.000000, fibi:  0.000000, time1/time2:       1.00\n",
      "n=17, fib: 0.000000, fibi:  0.000000, time1/time2:       1.00\n",
      "n=18, fib: 0.000000, fibi:  0.000000, time1/time2:       1.00\n",
      "n=19, fib: 0.000000, fibi:  0.000000, time1/time2:       1.00\n"
     ]
    }
   ],
   "source": [
    "from timeit import Timer\n",
    "\n",
    "t1 = Timer(\"fib(10)\",\"from fibonacci import fib\")\n",
    "\n",
    "for i in range(1, 20):\n",
    "    cmd = \"fib(\" + str(i) + \")\"\n",
    "    t1 = Timer()\n",
    "    time1 = t1.timeit(3)\n",
    "    cmd = \"fibi(\" + str(i) + \")\"\n",
    "    t2 = Timer()\n",
    "    time2 = t2.timeit(3)\n",
    "    print(f\"n={i:2d}, fib: {time1:8.6f}, fibi:  {time2:7.6f}, time1/time2: {time1/time2:10.2f}\")"
   ]
  },
  {
   "cell_type": "code",
   "execution_count": 12,
   "metadata": {},
   "outputs": [
    {
     "name": "stdout",
     "output_type": "stream",
     "text": [
      "n= 1, fibm: 0.000001, fibi:  0.000000, time1/time2:       2.00\n",
      "n= 2, fibm: 0.000001, fibi:  0.000000, time1/time2:       2.50\n",
      "n= 3, fibm: 0.000000, fibi:  0.000000, time1/time2:       0.67\n",
      "n= 4, fibm: 0.000000, fibi:  0.000000, time1/time2:       1.00\n",
      "n= 5, fibm: 0.000000, fibi:  0.000000, time1/time2:       0.75\n",
      "n= 6, fibm: 0.000000, fibi:  0.000001, time1/time2:       0.50\n",
      "n= 7, fibm: 0.000000, fibi:  0.000000, time1/time2:       1.00\n",
      "n= 8, fibm: 0.000000, fibi:  0.000000, time1/time2:       1.00\n",
      "n= 9, fibm: 0.000000, fibi:  0.000000, time1/time2:       1.33\n",
      "n=10, fibm: 0.000000, fibi:  0.000000, time1/time2:       1.00\n",
      "n=11, fibm: 0.000000, fibi:  0.000000, time1/time2:       1.00\n",
      "n=12, fibm: 0.000000, fibi:  0.000000, time1/time2:       0.67\n",
      "n=13, fibm: 0.000000, fibi:  0.000000, time1/time2:       4.00\n",
      "n=14, fibm: 0.000000, fibi:  0.000000, time1/time2:       1.00\n",
      "n=15, fibm: 0.000000, fibi:  0.000000, time1/time2:       2.00\n",
      "n=16, fibm: 0.000000, fibi:  0.000000, time1/time2:       2.00\n",
      "n=17, fibm: 0.000000, fibi:  0.000000, time1/time2:       1.00\n",
      "n=18, fibm: 0.000000, fibi:  0.000000, time1/time2:       1.00\n",
      "n=19, fibm: 0.000000, fibi:  0.000000, time1/time2:       1.00\n",
      "n=20, fibm: 0.000000, fibi:  0.000000, time1/time2:       0.50\n",
      "n=21, fibm: 0.000000, fibi:  0.000000, time1/time2:       2.00\n",
      "n=22, fibm: 0.000000, fibi:  0.000000, time1/time2:       2.00\n",
      "n=23, fibm: 0.000000, fibi:  0.000000, time1/time2:       0.50\n",
      "n=24, fibm: 0.000000, fibi:  0.000000, time1/time2:       1.00\n",
      "n=25, fibm: 0.000000, fibi:  0.000000, time1/time2:       2.00\n",
      "n=26, fibm: 0.000000, fibi:  0.000000, time1/time2:       1.00\n",
      "n=27, fibm: 0.000000, fibi:  0.000000, time1/time2:       1.00\n",
      "n=28, fibm: 0.000000, fibi:  0.000000, time1/time2:       1.00\n",
      "n=29, fibm: 0.000000, fibi:  0.000000, time1/time2:       2.00\n",
      "n=30, fibm: 0.000000, fibi:  0.000000, time1/time2:       1.00\n",
      "n=31, fibm: 0.000000, fibi:  0.000000, time1/time2:       1.00\n",
      "n=32, fibm: 0.000000, fibi:  0.000000, time1/time2:       2.00\n",
      "n=33, fibm: 0.000000, fibi:  0.000000, time1/time2:       0.50\n",
      "n=34, fibm: 0.000000, fibi:  0.000000, time1/time2:       2.00\n",
      "n=35, fibm: 0.000000, fibi:  0.000000, time1/time2:       2.00\n",
      "n=36, fibm: 0.000000, fibi:  0.000000, time1/time2:       2.00\n",
      "n=37, fibm: 0.000000, fibi:  0.000000, time1/time2:       1.00\n",
      "n=38, fibm: 0.000000, fibi:  0.000000, time1/time2:       0.50\n",
      "n=39, fibm: 0.000000, fibi:  0.000000, time1/time2:       1.00\n",
      "n=40, fibm: 0.000000, fibi:  0.000000, time1/time2:       1.00\n",
      "n=41, fibm: 0.000000, fibi:  0.000000, time1/time2:       0.50\n",
      "n=42, fibm: 0.000000, fibi:  0.000000, time1/time2:       1.00\n",
      "n=43, fibm: 0.000000, fibi:  0.000000, time1/time2:       2.00\n",
      "n=44, fibm: 0.000000, fibi:  0.000000, time1/time2:       1.00\n",
      "n=45, fibm: 0.000000, fibi:  0.000000, time1/time2:       1.00\n",
      "n=46, fibm: 0.000000, fibi:  0.000000, time1/time2:       1.00\n",
      "n=47, fibm: 0.000000, fibi:  0.000000, time1/time2:       1.00\n",
      "n=48, fibm: 0.000000, fibi:  0.000000, time1/time2:       1.00\n",
      "n=49, fibm: 0.000000, fibi:  0.000000, time1/time2:       1.00\n",
      "n=50, fibm: 0.000000, fibi:  0.000000, time1/time2:       2.00\n",
      "n=51, fibm: 0.000000, fibi:  0.000001, time1/time2:       0.40\n",
      "n=52, fibm: 0.000000, fibi:  0.000000, time1/time2:       2.00\n",
      "n=53, fibm: 0.000000, fibi:  0.000000, time1/time2:       1.00\n",
      "n=54, fibm: 0.000000, fibi:  0.000000, time1/time2:       1.00\n",
      "n=55, fibm: 0.000000, fibi:  0.000000, time1/time2:       2.00\n",
      "n=56, fibm: 0.000000, fibi:  0.000000, time1/time2:       2.00\n",
      "n=57, fibm: 0.000000, fibi:  0.000000, time1/time2:       1.00\n",
      "n=58, fibm: 0.000000, fibi:  0.000000, time1/time2:       2.00\n",
      "n=59, fibm: 0.000000, fibi:  0.000000, time1/time2:       2.00\n",
      "n=60, fibm: 0.000000, fibi:  0.000000, time1/time2:       0.50\n",
      "n=61, fibm: 0.000000, fibi:  0.000000, time1/time2:       1.00\n",
      "n=62, fibm: 0.000000, fibi:  0.000000, time1/time2:       0.67\n",
      "n=63, fibm: 0.000000, fibi:  0.000000, time1/time2:       2.00\n",
      "n=64, fibm: 0.000000, fibi:  0.000000, time1/time2:       1.00\n",
      "n=65, fibm: 0.000000, fibi:  0.000000, time1/time2:       1.00\n",
      "n=66, fibm: 0.000000, fibi:  0.000000, time1/time2:       1.00\n",
      "n=67, fibm: 0.000000, fibi:  0.000000, time1/time2:       1.00\n",
      "n=68, fibm: 0.000000, fibi:  0.000000, time1/time2:       1.00\n",
      "n=69, fibm: 0.000000, fibi:  0.000000, time1/time2:       2.00\n",
      "n=70, fibm: 0.000000, fibi:  0.000000, time1/time2:       1.00\n",
      "n=71, fibm: 0.000000, fibi:  0.000000, time1/time2:       0.50\n",
      "n=72, fibm: 0.000000, fibi:  0.000000, time1/time2:       1.00\n",
      "n=73, fibm: 0.000000, fibi:  0.000000, time1/time2:       1.00\n",
      "n=74, fibm: 0.000000, fibi:  0.000000, time1/time2:       2.00\n",
      "n=75, fibm: 0.000000, fibi:  0.000000, time1/time2:       1.33\n",
      "n=76, fibm: 0.000000, fibi:  0.000000, time1/time2:       1.00\n",
      "n=77, fibm: 0.000000, fibi:  0.000000, time1/time2:       2.00\n",
      "n=78, fibm: 0.000000, fibi:  0.000000, time1/time2:       0.50\n",
      "n=79, fibm: 0.000000, fibi:  0.000000, time1/time2:       1.00\n",
      "n=80, fibm: 0.000000, fibi:  0.000000, time1/time2:       1.00\n",
      "n=81, fibm: 0.000000, fibi:  0.000000, time1/time2:       1.00\n",
      "n=82, fibm: 0.000000, fibi:  0.000000, time1/time2:       2.00\n",
      "n=83, fibm: 0.000000, fibi:  0.000000, time1/time2:       2.00\n",
      "n=84, fibm: 0.000000, fibi:  0.000000, time1/time2:       1.00\n",
      "n=85, fibm: 0.000000, fibi:  0.000000, time1/time2:       1.00\n",
      "n=86, fibm: 0.000000, fibi:  0.000000, time1/time2:       2.00\n",
      "n=87, fibm: 0.000000, fibi:  0.000000, time1/time2:       1.00\n",
      "n=88, fibm: 0.000000, fibi:  0.000000, time1/time2:       1.00\n",
      "n=89, fibm: 0.000000, fibi:  0.000000, time1/time2:       2.00\n",
      "n=90, fibm: 0.000000, fibi:  0.000000, time1/time2:       1.00\n",
      "n=91, fibm: 0.000000, fibi:  0.000000, time1/time2:       1.00\n",
      "n=92, fibm: 0.000000, fibi:  0.000000, time1/time2:       1.00\n",
      "n=93, fibm: 0.000000, fibi:  0.000000, time1/time2:       1.00\n",
      "n=94, fibm: 0.000000, fibi:  0.000000, time1/time2:       1.00\n",
      "n=95, fibm: 0.000000, fibi:  0.000000, time1/time2:       2.00\n",
      "n=96, fibm: 0.000000, fibi:  0.000000, time1/time2:       1.00\n",
      "n=97, fibm: 0.000000, fibi:  0.000000, time1/time2:       1.00\n",
      "n=98, fibm: 0.000000, fibi:  0.000000, time1/time2:       1.00\n",
      "n=99, fibm: 0.000000, fibi:  0.000000, time1/time2:       1.00\n",
      "n=100, fibm: 0.000000, fibi:  0.000000, time1/time2:       1.00\n",
      "n=101, fibm: 0.000000, fibi:  0.000000, time1/time2:       0.50\n",
      "n=102, fibm: 0.000000, fibi:  0.000000, time1/time2:       1.00\n",
      "n=103, fibm: 0.000000, fibi:  0.000000, time1/time2:       1.00\n",
      "n=104, fibm: 0.000000, fibi:  0.000000, time1/time2:       1.00\n",
      "n=105, fibm: 0.000000, fibi:  0.000000, time1/time2:       0.50\n",
      "n=106, fibm: 0.000000, fibi:  0.000000, time1/time2:       0.67\n",
      "n=107, fibm: 0.000000, fibi:  0.000000, time1/time2:       1.00\n",
      "n=108, fibm: 0.000000, fibi:  0.000000, time1/time2:       1.00\n",
      "n=109, fibm: 0.000000, fibi:  0.000000, time1/time2:       0.50\n",
      "n=110, fibm: 0.000000, fibi:  0.000000, time1/time2:       2.00\n",
      "n=111, fibm: 0.000000, fibi:  0.000000, time1/time2:       2.00\n",
      "n=112, fibm: 0.000000, fibi:  0.000000, time1/time2:       0.50\n",
      "n=113, fibm: 0.000000, fibi:  0.000000, time1/time2:       2.00\n",
      "n=114, fibm: 0.000000, fibi:  0.000000, time1/time2:       1.00\n",
      "n=115, fibm: 0.000000, fibi:  0.000000, time1/time2:       1.00\n",
      "n=116, fibm: 0.000000, fibi:  0.000000, time1/time2:       1.00\n",
      "n=117, fibm: 0.000000, fibi:  0.000000, time1/time2:       2.00\n",
      "n=118, fibm: 0.000000, fibi:  0.000000, time1/time2:       1.00\n",
      "n=119, fibm: 0.000000, fibi:  0.000000, time1/time2:       0.50\n",
      "n=120, fibm: 0.000000, fibi:  0.000000, time1/time2:       2.00\n",
      "n=121, fibm: 0.000000, fibi:  0.000000, time1/time2:       0.50\n",
      "n=122, fibm: 0.000000, fibi:  0.000000, time1/time2:       2.00\n",
      "n=123, fibm: 0.000000, fibi:  0.000000, time1/time2:       1.00\n",
      "n=124, fibm: 0.000000, fibi:  0.000000, time1/time2:       0.50\n",
      "n=125, fibm: 0.000000, fibi:  0.000000, time1/time2:       1.00\n",
      "n=126, fibm: 0.000000, fibi:  0.000000, time1/time2:       1.00\n",
      "n=127, fibm: 0.000000, fibi:  0.000000, time1/time2:       1.00\n",
      "n=128, fibm: 0.000000, fibi:  0.000000, time1/time2:       1.00\n",
      "n=129, fibm: 0.000000, fibi:  0.000000, time1/time2:       2.00\n",
      "n=130, fibm: 0.000000, fibi:  0.000000, time1/time2:       0.50\n",
      "n=131, fibm: 0.000000, fibi:  0.000000, time1/time2:       0.50\n",
      "n=132, fibm: 0.000000, fibi:  0.000000, time1/time2:       0.50\n",
      "n=133, fibm: 0.000000, fibi:  0.000000, time1/time2:       2.00\n",
      "n=134, fibm: 0.000000, fibi:  0.000000, time1/time2:       2.00\n",
      "n=135, fibm: 0.000000, fibi:  0.000000, time1/time2:       1.00\n",
      "n=136, fibm: 0.000000, fibi:  0.000000, time1/time2:       2.00\n",
      "n=137, fibm: 0.000000, fibi:  0.000000, time1/time2:       1.00\n",
      "n=138, fibm: 0.000000, fibi:  0.000000, time1/time2:       2.00\n",
      "n=139, fibm: 0.000000, fibi:  0.000000, time1/time2:       1.00\n",
      "n=140, fibm: 0.000000, fibi:  0.000000, time1/time2:       0.50\n",
      "n=141, fibm: 0.000000, fibi:  0.000000, time1/time2:       2.00\n",
      "n=142, fibm: 0.000000, fibi:  0.000000, time1/time2:       2.00\n",
      "n=143, fibm: 0.000000, fibi:  0.000000, time1/time2:       0.67\n",
      "n=144, fibm: 0.000000, fibi:  0.000000, time1/time2:       1.00\n",
      "n=145, fibm: 0.000000, fibi:  0.000000, time1/time2:       2.00\n",
      "n=146, fibm: 0.000000, fibi:  0.000000, time1/time2:       2.00\n",
      "n=147, fibm: 0.000000, fibi:  0.000000, time1/time2:       0.50\n",
      "n=148, fibm: 0.000000, fibi:  0.000000, time1/time2:       0.50\n",
      "n=149, fibm: 0.000000, fibi:  0.000001, time1/time2:       0.57\n",
      "n=150, fibm: 0.000000, fibi:  0.000000, time1/time2:       1.00\n",
      "n=151, fibm: 0.000000, fibi:  0.000000, time1/time2:       3.00\n",
      "n=152, fibm: 0.000000, fibi:  0.000001, time1/time2:       0.50\n",
      "n=153, fibm: 0.000000, fibi:  0.000000, time1/time2:       1.00\n",
      "n=154, fibm: 0.000001, fibi:  0.000000, time1/time2:       2.00\n",
      "n=155, fibm: 0.000000, fibi:  0.000000, time1/time2:       1.00\n",
      "n=156, fibm: 0.000001, fibi:  0.000001, time1/time2:       1.00\n",
      "n=157, fibm: 0.000001, fibi:  0.000001, time1/time2:       1.00\n",
      "n=158, fibm: 0.000001, fibi:  0.000001, time1/time2:       1.00\n",
      "n=159, fibm: 0.000001, fibi:  0.000001, time1/time2:       0.75\n",
      "n=160, fibm: 0.000001, fibi:  0.000001, time1/time2:       0.50\n",
      "n=161, fibm: 0.000001, fibi:  0.000001, time1/time2:       0.70\n",
      "n=162, fibm: 0.000001, fibi:  0.000001, time1/time2:       1.25\n",
      "n=163, fibm: 0.000001, fibi:  0.000001, time1/time2:       1.33\n",
      "n=164, fibm: 0.000001, fibi:  0.000001, time1/time2:       0.69\n",
      "n=165, fibm: 0.000001, fibi:  0.000001, time1/time2:       1.00\n",
      "n=166, fibm: 0.000001, fibi:  0.000001, time1/time2:       2.00\n",
      "n=167, fibm: 0.000001, fibi:  0.000001, time1/time2:       0.64\n",
      "n=168, fibm: 0.000001, fibi:  0.000001, time1/time2:       1.10\n",
      "n=169, fibm: 0.000001, fibi:  0.000001, time1/time2:       0.90\n",
      "n=170, fibm: 0.000001, fibi:  0.000001, time1/time2:       1.57\n",
      "n=171, fibm: 0.000001, fibi:  0.000001, time1/time2:       1.29\n",
      "n=172, fibm: 0.000001, fibi:  0.000001, time1/time2:       1.29\n",
      "n=173, fibm: 0.000001, fibi:  0.000001, time1/time2:       1.00\n",
      "n=174, fibm: 0.000001, fibi:  0.000001, time1/time2:       0.88\n",
      "n=175, fibm: 0.000001, fibi:  0.000001, time1/time2:       1.00\n",
      "n=176, fibm: 0.000001, fibi:  0.000001, time1/time2:       1.29\n",
      "n=177, fibm: 0.000001, fibi:  0.000001, time1/time2:       1.00\n",
      "n=178, fibm: 0.000000, fibi:  0.000000, time1/time2:       1.00\n",
      "n=179, fibm: 0.000000, fibi:  0.000000, time1/time2:       0.67\n",
      "n=180, fibm: 0.000000, fibi:  0.000001, time1/time2:       0.33\n",
      "n=181, fibm: 0.000001, fibi:  0.000001, time1/time2:       1.38\n",
      "n=182, fibm: 0.000001, fibi:  0.000001, time1/time2:       1.11\n",
      "n=183, fibm: 0.000000, fibi:  0.000000, time1/time2:       1.33\n",
      "n=184, fibm: 0.000000, fibi:  0.000000, time1/time2:       0.75\n",
      "n=185, fibm: 0.000001, fibi:  0.000001, time1/time2:       1.00\n",
      "n=186, fibm: 0.000001, fibi:  0.000001, time1/time2:       0.71\n",
      "n=187, fibm: 0.000001, fibi:  0.000001, time1/time2:       1.14\n",
      "n=188, fibm: 0.000001, fibi:  0.000001, time1/time2:       1.29\n",
      "n=189, fibm: 0.000001, fibi:  0.000001, time1/time2:       1.12\n",
      "n=190, fibm: 0.000001, fibi:  0.000001, time1/time2:       1.12\n",
      "n=191, fibm: 0.000001, fibi:  0.000001, time1/time2:       1.17\n",
      "n=192, fibm: 0.000001, fibi:  0.000001, time1/time2:       1.60\n",
      "n=193, fibm: 0.000000, fibi:  0.000000, time1/time2:       1.50\n",
      "n=194, fibm: 0.000000, fibi:  0.000000, time1/time2:       2.00\n",
      "n=195, fibm: 0.000000, fibi:  0.000000, time1/time2:       1.00\n",
      "n=196, fibm: 0.000000, fibi:  0.000000, time1/time2:       1.00\n",
      "n=197, fibm: 0.000000, fibi:  0.000000, time1/time2:       1.00\n",
      "n=198, fibm: 0.000000, fibi:  0.000000, time1/time2:       1.00\n",
      "n=199, fibm: 0.000000, fibi:  0.000000, time1/time2:       2.00\n"
     ]
    }
   ],
   "source": [
    "from timeit import Timer\n",
    "\n",
    "t1 = Timer(\"fib(10)\",\"from fibonacci import fib\")\n",
    "\n",
    "for i in range(1, 200):\n",
    "    s = \"fibm(\" + str(i) + \")\"\n",
    "    t1 = Timer()\n",
    "    time1 = t1.timeit(3)\n",
    "    s = \"fibi(\" + str(i) + \")\"\n",
    "    t2 = Timer()\n",
    "    time2 = t2.timeit(3)\n",
    "    print(f\"n={i:2d}, fibm: {time1:8.6f}, fibi:  {time2:7.6f}, time1/time2: {time1/time2:10.2f}\")"
   ]
  },
  {
   "cell_type": "code",
   "execution_count": 15,
   "metadata": {},
   "outputs": [
    {
     "data": {
      "text/plain": [
       "[1, 5, 10, 10, 5, 1]"
      ]
     },
     "execution_count": 15,
     "metadata": {},
     "output_type": "execute_result"
    }
   ],
   "source": [
    "# Write a function to print pascal triangle\n",
    "\n",
    "def pascal_triangle(n):\n",
    "    if n == 1:\n",
    "        return [1]\n",
    "    else:\n",
    "        p_line = pascal_triangle(n - 1)\n",
    "        line = [ p_line[i] + p_line[i+1] for i in range(len(p_line) - 1)]\n",
    "        line.insert(0,1)\n",
    "        line.append(1)\n",
    "    return line\n",
    "\n",
    "pascal_triangle(6)"
   ]
  },
  {
   "cell_type": "code",
   "execution_count": 17,
   "metadata": {},
   "outputs": [
    {
     "data": {
      "text/plain": [
       "[12, 0, 1, 2, 3, 4, 13]"
      ]
     },
     "metadata": {},
     "output_type": "display_data"
    }
   ],
   "source": [
    "arr = [x for x in range(5)]\n",
    "arr.insert(0, 12)\n",
    "arr.append(13)\n",
    "display(arr)"
   ]
  },
  {
   "attachments": {},
   "cell_type": "markdown",
   "metadata": {},
   "source": [
    "\n",
    "### 2. Iterators and Iterables                "
   ]
  },
  {
   "attachments": {},
   "cell_type": "markdown",
   "metadata": {},
   "source": [
    "\n",
    "### 3. Generators and Iterators               "
   ]
  },
  {
   "attachments": {},
   "cell_type": "markdown",
   "metadata": {},
   "source": [
    "\n",
    "### 4. Lambda Operator, filter, reduce and map"
   ]
  },
  {
   "attachments": {},
   "cell_type": "markdown",
   "metadata": {},
   "source": [
    "\n",
    "### 5. zip introduction and examples          "
   ]
  },
  {
   "attachments": {},
   "cell_type": "markdown",
   "metadata": {},
   "source": [
    "\n",
    "### 6. Decorators and Decoration              "
   ]
  },
  {
   "attachments": {},
   "cell_type": "markdown",
   "metadata": {},
   "source": [
    "\n",
    "### 7. Memoization and Decorators             "
   ]
  },
  {
   "attachments": {},
   "cell_type": "markdown",
   "metadata": {},
   "source": [
    "\n",
    "### 8. List Comprehension                     "
   ]
  },
  {
   "attachments": {},
   "cell_type": "markdown",
   "metadata": {},
   "source": [
    "\n",
    "### 9. Currying in Python                     "
   ]
  },
  {
   "attachments": {},
   "cell_type": "markdown",
   "metadata": {},
   "source": [
    "\n",
    "### 10. Tests, DocTests, UnitTests            "
   ]
  },
  {
   "attachments": {},
   "cell_type": "markdown",
   "metadata": {},
   "source": [
    "\n",
    "### 11. Testing with Pytest                   "
   ]
  },
  {
   "attachments": {},
   "cell_type": "markdown",
   "metadata": {},
   "source": [
    "\n",
    "### 12. Regular Expressions                   "
   ]
  },
  {
   "attachments": {},
   "cell_type": "markdown",
   "metadata": {},
   "source": [
    "\n",
    "### 13. Advanced Regular Expressions          "
   ]
  },
  {
   "cell_type": "markdown",
   "metadata": {},
   "source": []
  }
 ],
 "metadata": {
  "kernelspec": {
   "display_name": "Python 3",
   "language": "python",
   "name": "python3"
  },
  "language_info": {
   "codemirror_mode": {
    "name": "ipython",
    "version": 3
   },
   "file_extension": ".py",
   "mimetype": "text/x-python",
   "name": "python",
   "nbconvert_exporter": "python",
   "pygments_lexer": "ipython3",
   "version": "3.11.1"
  },
  "orig_nbformat": 4
 },
 "nbformat": 4,
 "nbformat_minor": 2
}
