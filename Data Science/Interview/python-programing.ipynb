{
 "cells": [
  {
   "cell_type": "markdown",
   "metadata": {},
   "source": [
    "#### OOPS concept\n",
    "\n",
    "1. Class\n",
    "2. Method\n",
    "3. Object\n",
    "1. Inheritance\n",
    "1. Polymorphism\n",
    "1. Data Abstraction\n",
    "1. Encapsulation"
   ]
  },
  {
   "cell_type": "markdown",
   "metadata": {},
   "source": [
    "1. Class -> class is the blueprint from which objects get created"
   ]
  },
  {
   "cell_type": "code",
   "execution_count": 1,
   "metadata": {},
   "outputs": [
    {
     "name": "stdout",
     "output_type": "stream",
     "text": [
      "Student name is Rohit and rollnumber is 12\n",
      "Student name is Ambajari and rollnumber is 12\n"
     ]
    }
   ],
   "source": [
    "class Student:\n",
    "    def __init__(self, name, roll_number) -> None:\n",
    "        self.name = name\n",
    "        self.roll_number = roll_number\n",
    "\n",
    "    def print_student_details(self):\n",
    "        print(f\"Student name is {self.name} and rollnumber is {self.roll_number}\")\n",
    "\n",
    "stu1 = Student(\"Rohit\", 12)\n",
    "stu1.print_student_details()\n",
    "stu1.name = \"Ambajari\"\n",
    "stu1.print_student_details()"
   ]
  },
  {
   "cell_type": "code",
   "execution_count": 14,
   "metadata": {},
   "outputs": [
    {
     "name": "stdout",
     "output_type": "stream",
     "text": [
      "Student name is Rohit and rollnumber is 12. \n",
      "        Rohit is 9 year old and have receive 39 marks. \n",
      "Student name is Rohit and rollnumber is 12. \n",
      "        Rohit is 24 year old and have receive 39 marks. \n",
      "Student name is Rohit and rollnumber is 12. \n",
      "        Rohit is 24 year old and have receive 39 marks. \n",
      "39\n"
     ]
    }
   ],
   "source": [
    "class Student:\n",
    "\n",
    "    _age = None\n",
    "    def __init__(self, name, roll_number, marks, age) -> None:\n",
    "        self.name = name\n",
    "        self.roll_number = roll_number\n",
    "        self._age = age\n",
    "        self.__marks = marks\n",
    "\n",
    "    def print_student_details(self):\n",
    "        print(f\"\"\"Student name is {self.name} and rollnumber is {self.roll_number}. \n",
    "        {self.name} is {self._age} year old and have receive {self.__marks} marks. \"\"\")\n",
    "\n",
    "\n",
    "stu1 = Student(\"Rohit\", 12, 39, 9)\n",
    "stu1.print_student_details()\n",
    "stu1._age = 24\n",
    "stu1.print_student_details()\n",
    "stu1.marks = 45\n",
    "stu1.print_student_details()\n",
    "print(stu1._Student__marks)"
   ]
  },
  {
   "cell_type": "markdown",
   "metadata": {},
   "source": [
    "1.1. Access Modifiers\n",
    "\n",
    "    a. Public\n",
    "    b. Protected\n",
    "    c. Private"
   ]
  },
  {
   "cell_type": "code",
   "execution_count": null,
   "metadata": {},
   "outputs": [],
   "source": []
  },
  {
   "cell_type": "markdown",
   "metadata": {},
   "source": [
    "2. Method -> Methods are the function associated with classes"
   ]
  },
  {
   "cell_type": "markdown",
   "metadata": {},
   "source": [
    "4. Polymorphism"
   ]
  },
  {
   "cell_type": "code",
   "execution_count": 4,
   "metadata": {},
   "outputs": [
    {
     "name": "stdout",
     "output_type": "stream",
     "text": [
      "Person name is Andy, person age is 34\n"
     ]
    }
   ],
   "source": [
    "class Person:\n",
    "    def __init__(self, name, age) -> None:\n",
    "        self.name = name\n",
    "        self.age = age\n",
    "    \n",
    "    def details(self):\n",
    "        print(f\"Person name is {self.name}, person age is {self.age}\")\n",
    "\n",
    "    # def details(self, gender):\n",
    "    #     print(f\"Person name is {self.name}, person age is {self.age} and person gender is {gender}\")\n",
    "\n",
    "per1 = Person(\"Andy\", 34)\n",
    "per1.details()\n",
    "# per1.details(\"Male\")"
   ]
  },
  {
   "cell_type": "markdown",
   "metadata": {},
   "source": [
    "4. Encapsulation"
   ]
  },
  {
   "cell_type": "markdown",
   "metadata": {},
   "source": []
  }
 ],
 "metadata": {
  "kernelspec": {
   "display_name": "Python 3.9.6 64-bit",
   "language": "python",
   "name": "python3"
  },
  "language_info": {
   "codemirror_mode": {
    "name": "ipython",
    "version": 3
   },
   "file_extension": ".py",
   "mimetype": "text/x-python",
   "name": "python",
   "nbconvert_exporter": "python",
   "pygments_lexer": "ipython3",
   "version": "3.9.6"
  },
  "orig_nbformat": 4,
  "vscode": {
   "interpreter": {
    "hash": "31f2aee4e71d21fbe5cf8b01ff0e069b9275f58929596ceb00d14d90e3e16cd6"
   }
  }
 },
 "nbformat": 4,
 "nbformat_minor": 2
}
