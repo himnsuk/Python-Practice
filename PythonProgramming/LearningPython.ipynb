{
 "cells": [
  {
   "cell_type": "markdown",
   "metadata": {
    "id": "L2N2HUHqCDLV"
   },
   "source": [
    "Python Tutorial\n",
    "----\n",
    "This is a simple tutorial to remember python functionalities and libraries functions"
   ]
  },
  {
   "cell_type": "code",
   "execution_count": 1,
   "metadata": {
    "colab": {
     "base_uri": "https://localhost:8080/"
    },
    "id": "qhEO6QO0B_mK",
    "outputId": "ebeb783d-3779-4fc2-8abf-b0db457c80bb"
   },
   "outputs": [
    {
     "name": "stdout",
     "output_type": "stream",
     "text": [
      "Hello Himanshu!\n"
     ]
    }
   ],
   "source": [
    "# Start with Simple Hello world\n",
    "print(\"Hello Himanshu!\")"
   ]
  },
  {
   "cell_type": "markdown",
   "metadata": {
    "id": "efEDXxN2CWAY"
   },
   "source": [
    "### Creating Variable\n",
    "\n",
    "Python doesn't have any specific way to declare variable.\n",
    "\n",
    "Variable get created once you assign any value to them"
   ]
  },
  {
   "cell_type": "code",
   "execution_count": 2,
   "metadata": {
    "colab": {
     "base_uri": "https://localhost:8080/"
    },
    "id": "CW0q1WpUDbCl",
    "outputId": "23650f38-c299-4ec0-9dd9-f41a6eb38783"
   },
   "outputs": [
    {
     "name": "stdout",
     "output_type": "stream",
     "text": [
      "7\n",
      "Ramesh\n",
      "Rahul Vyas\n"
     ]
    }
   ],
   "source": [
    "x = 7\n",
    "y = \"Ramesh\"\n",
    "print(x)\n",
    "print(y)\n",
    "x = \"Rahul Vyas\"\n",
    "print(x)"
   ]
  },
  {
   "cell_type": "markdown",
   "metadata": {
    "id": "VPLRURw0DkJa"
   },
   "source": [
    "### Variable Names\n",
    "\n",
    "A variable can have a short name (like x and y) or a more descriptive name (age, carname, total_volume). Rules for Python variables:\n",
    "\n",
    "* A variable name must start with a letter or the underscore character\n",
    "* A variable name cannot start with a number\n",
    "* A variable name can only contain alpha-numeric characters and underscores (A-z, 0-9, and _ )\n",
    "* Variable names are case-sensitive (age, Age and AGE are three different variables)"
   ]
  },
  {
   "cell_type": "code",
   "execution_count": 3,
   "metadata": {
    "id": "6tiirTZPD-SP"
   },
   "outputs": [],
   "source": [
    "# Legal variable names\n",
    "myvar = \"John\"\n",
    "my_var = \"John\"\n",
    "_my_var = \"John\"\n",
    "myVar = \"John\"\n",
    "MYVAR = \"John\"\n",
    "myvar2 = \"John\"\n"
   ]
  },
  {
   "cell_type": "code",
   "execution_count": 4,
   "metadata": {
    "id": "OEx3lz05EHi4"
   },
   "outputs": [],
   "source": [
    "#Illegal variable names\n",
    "# 2myvar = \"John\"\n",
    "# my-var = \"John\"\n",
    "# my var = \"John\""
   ]
  },
  {
   "cell_type": "markdown",
   "metadata": {
    "id": "VxDvX7KVEMXO"
   },
   "source": [
    "### The global Keyword\n",
    "\n",
    "Normally, when you create a variable inside a function, that variable is local, and can only be used inside that function.\n",
    "\n",
    "To create a global variable inside a function, you can use the global keyword."
   ]
  },
  {
   "cell_type": "code",
   "execution_count": 5,
   "metadata": {
    "colab": {
     "base_uri": "https://localhost:8080/"
    },
    "id": "v5hsTlcaF_YC",
    "outputId": "6d0c1a81-fb42-4625-e89f-a5404ac2dc2f"
   },
   "outputs": [
    {
     "name": "stdout",
     "output_type": "stream",
     "text": [
      "Python is fantastic\n"
     ]
    }
   ],
   "source": [
    "#If you use the global keyword, the variable belongs to the global scope:\n",
    "def myfunc():\n",
    "  global x\n",
    "  x = \"fantastic\"\n",
    "\n",
    "myfunc()\n",
    "\n",
    "print(\"Python is \" + x)"
   ]
  },
  {
   "cell_type": "markdown",
   "metadata": {
    "id": "C7YMURylGSJJ"
   },
   "source": [
    "### Python Data Types\n",
    "\n",
    "<table class=\"w3-table\">\n",
    "  <tbody><tr>\n",
    "    <td style=\"width:160px;\">Text Type:</td>\n",
    "    <td><code class=\"w3-codespan\">str</code></td>\n",
    "  </tr>\n",
    "  <tr>\n",
    "    <td>Numeric Types:</td>\n",
    "    <td><code class=\"w3-codespan\">int</code>, <code class=\"w3-codespan\">float</code>,\n",
    "    <code class=\"w3-codespan\">complex</code></td>\n",
    "  </tr>\n",
    "  <tr>\n",
    "    <td>Sequence Types:</td>\n",
    "    <td><code class=\"w3-codespan\">list</code>, <code class=\"w3-codespan\">tuple</code>, \n",
    "    <code class=\"w3-codespan\">range</code></td>\n",
    "  </tr>\n",
    "  <tr>\n",
    "    <td>Mapping Type:</td>\n",
    "    <td><code class=\"w3-codespan\">dict</code></td>\n",
    "  </tr>\n",
    "  <tr>\n",
    "    <td>Set Types:</td>\n",
    "    <td><code class=\"w3-codespan\">set</code>, <code class=\"w3-codespan\">frozenset</code></td>\n",
    "  </tr>\n",
    "  <tr>\n",
    "    <td>Boolean Type:</td>\n",
    "    <td><code class=\"w3-codespan\">bool</code></td>\n",
    "  </tr>\n",
    "  <tr>\n",
    "    <td>Binary Types:</td>\n",
    "    <td><code class=\"w3-codespan\">bytes</code>, <code class=\"w3-codespan\">bytearray</code>, \n",
    "    <code class=\"w3-codespan\">memoryview</code></td>\n",
    "  </tr>\n",
    "</tbody></table>"
   ]
  },
  {
   "cell_type": "code",
   "execution_count": 6,
   "metadata": {
    "colab": {
     "base_uri": "https://localhost:8080/"
    },
    "id": "4e9TrsJZGf48",
    "outputId": "6226e6bf-6641-4e44-d929-e05149ac0151"
   },
   "outputs": [
    {
     "name": "stdout",
     "output_type": "stream",
     "text": [
      "1j\n",
      "<class 'complex'>\n"
     ]
    }
   ],
   "source": [
    "x = complex(1j)\n",
    "\n",
    "#display x:\n",
    "print(x)\n",
    "\n",
    "#display the data type of x:\n",
    "print(type(x)) "
   ]
  },
  {
   "cell_type": "markdown",
   "metadata": {
    "id": "JKOoJRnoGt6u"
   },
   "source": [
    "### Python Numbers\n",
    "\n",
    "There are three numeric types in Python:\n",
    "\n",
    "* int\n",
    "* float\n",
    "* complex"
   ]
  },
  {
   "cell_type": "code",
   "execution_count": 7,
   "metadata": {
    "id": "0maAnEmQG6me"
   },
   "outputs": [],
   "source": [
    "x = 1    # int\n",
    "y = 2.8  # float\n",
    "z = 1j   # complex"
   ]
  },
  {
   "cell_type": "code",
   "execution_count": 8,
   "metadata": {
    "colab": {
     "base_uri": "https://localhost:8080/"
    },
    "id": "BZ3yE2AVG8es",
    "outputId": "00fd26e9-2ce7-45ea-d9bc-86cc3366134d"
   },
   "outputs": [
    {
     "name": "stdout",
     "output_type": "stream",
     "text": [
      "<class 'float'>\n",
      "<class 'float'>\n",
      "<class 'float'>\n"
     ]
    }
   ],
   "source": [
    "x = 1.10\n",
    "y = 1.0\n",
    "z = -35.59\n",
    "\n",
    "print(type(x))\n",
    "print(type(y))\n",
    "print(type(z))"
   ]
  },
  {
   "cell_type": "markdown",
   "metadata": {
    "id": "_we0DI4dG_yr"
   },
   "source": [
    "> Note: You cannot convert complex numbers into another number type."
   ]
  },
  {
   "cell_type": "markdown",
   "metadata": {
    "id": "fJKDK717HI2e"
   },
   "source": [
    "### Strings\n",
    "\n",
    "Strings in python are surrounded by either single quotation marks, or double quotation marks.\n",
    "\n",
    "'hello' is the same as \"hello\".\n",
    "\n",
    "You can display a string literal with the _print()_ function:"
   ]
  },
  {
   "cell_type": "code",
   "execution_count": 9,
   "metadata": {
    "colab": {
     "base_uri": "https://localhost:8080/"
    },
    "id": "wMmlNyZAHu6W",
    "outputId": "1d6eb001-1277-427e-8db3-d44844853168"
   },
   "outputs": [
    {
     "name": "stdout",
     "output_type": "stream",
     "text": [
      "Hello\n"
     ]
    }
   ],
   "source": [
    "a = \"Hello\"\n",
    "print(a)"
   ]
  },
  {
   "cell_type": "markdown",
   "metadata": {
    "id": "dxXuSzVDHzq-"
   },
   "source": [
    "### Multiline Strings\n",
    "You can assign a multiline string to a variable by using three quotes:"
   ]
  },
  {
   "cell_type": "code",
   "execution_count": 10,
   "metadata": {
    "colab": {
     "base_uri": "https://localhost:8080/"
    },
    "id": "Uukot4VRH4UR",
    "outputId": "0f577e1b-b45a-476b-8af6-0b92798ecd3a"
   },
   "outputs": [
    {
     "name": "stdout",
     "output_type": "stream",
     "text": [
      "Lorem ipsum dolor sit amet,\n",
      "consectetur adipiscing elit,\n",
      "sed do eiusmod tempor incididunt\n",
      "ut labore et dolore magna aliqua.\n"
     ]
    }
   ],
   "source": [
    "a = \"\"\"Lorem ipsum dolor sit amet,\n",
    "consectetur adipiscing elit,\n",
    "sed do eiusmod tempor incididunt\n",
    "ut labore et dolore magna aliqua.\"\"\"\n",
    "print(a)"
   ]
  },
  {
   "cell_type": "markdown",
   "metadata": {
    "id": "jxCleRQhH6-G"
   },
   "source": [
    ">Note: in the result, the line breaks are inserted at the same position as in the code."
   ]
  },
  {
   "cell_type": "markdown",
   "metadata": {
    "id": "GhWpJoDRIBkc"
   },
   "source": [
    "### Strings are Arrays\n",
    "Like many other popular programming languages, strings in Python are arrays of bytes representing unicode characters.\n",
    "\n",
    "However, Python does not have a character data type, a single character is simply a string with a length of 1.\n",
    "\n",
    "Square brackets can be used to access elements of the string."
   ]
  },
  {
   "cell_type": "code",
   "execution_count": 11,
   "metadata": {
    "colab": {
     "base_uri": "https://localhost:8080/"
    },
    "id": "QUzuVp7fIJu6",
    "outputId": "47b7d043-6ae8-4c78-a55e-182a6e79b05b"
   },
   "outputs": [
    {
     "name": "stdout",
     "output_type": "stream",
     "text": [
      "e\n"
     ]
    }
   ],
   "source": [
    "a = \"Hello, World!\"\n",
    "print(a[1])"
   ]
  },
  {
   "cell_type": "markdown",
   "metadata": {
    "id": "h_hvHi8rILDe"
   },
   "source": [
    "### Looping through a string"
   ]
  },
  {
   "cell_type": "code",
   "execution_count": 12,
   "metadata": {
    "colab": {
     "base_uri": "https://localhost:8080/"
    },
    "id": "Gy9YP1dEIPXg",
    "outputId": "a08e0cb8-9d87-47d9-fb30-1b467b2b1b15"
   },
   "outputs": [
    {
     "name": "stdout",
     "output_type": "stream",
     "text": [
      "b\n",
      "a\n",
      "n\n",
      "a\n",
      "n\n",
      "a\n"
     ]
    }
   ],
   "source": [
    "for x in \"banana\":\n",
    "  print(x)"
   ]
  },
  {
   "cell_type": "code",
   "execution_count": 13,
   "metadata": {
    "colab": {
     "base_uri": "https://localhost:8080/",
     "height": 71
    },
    "id": "d5GUZ1znIQHM",
    "outputId": "cba14dd3-eff1-41d0-b80f-88399a11492d"
   },
   "outputs": [
    {
     "data": {
      "text/plain": [
       "'Hello Himanshu'"
      ]
     },
     "metadata": {},
     "output_type": "display_data"
    },
    {
     "data": {
      "text/plain": [
       "'HELLO HIMANSHU'"
      ]
     },
     "metadata": {},
     "output_type": "display_data"
    },
    {
     "data": {
      "text/plain": [
       "'hello himanshu'"
      ]
     },
     "metadata": {},
     "output_type": "display_data"
    },
    {
     "data": {
      "text/plain": [
       "'Hello Himanshu'"
      ]
     },
     "metadata": {},
     "output_type": "display_data"
    }
   ],
   "source": [
    "a = \"Hello Himanshu\"\n",
    "b = a.upper()\n",
    "c = a.lower()\n",
    "d = a.title()\n",
    "display(a, b, c, d)"
   ]
  },
  {
   "cell_type": "markdown",
   "metadata": {
    "id": "4gVBXROBKJ-t"
   },
   "source": [
    "### String Methods\n",
    "\n",
    "|Method|Description|\n",
    "|--- |--- |\n",
    "|capitalize()|Converts the first character to upper case|\n",
    "|casefold()|Converts string into lower case|\n",
    "|center()|Returns a centered string|\n",
    "|count()|Returns the number of times a specified value occurs in a string|\n",
    "|encode()|Returns an encoded version of the string|\n",
    "|endswith()|Returns true if the string ends with the specified value|\n",
    "|expandtabs()|Sets the tab size of the string|\n",
    "|find()|Searches the string for a specified value and returns the position of where it was found|\n",
    "|format()|Formats specified values in a string|\n",
    "|format_map()|Formats specified values in a string|\n",
    "|index()|Searches the string for a specified value and returns the position of where it was found|\n",
    "|isalnum()|Returns True if all characters in the string are alphanumeric|\n",
    "|isalpha()|Returns True if all characters in the string are in the alphabet|\n",
    "|isdecimal()|Returns True if all characters in the string are decimals|\n",
    "|isdigit()|Returns True if all characters in the string are digits|\n",
    "|isidentifier()|Returns True if the string is an identifier|\n",
    "|islower()|Returns True if all characters in the string are lower case|\n",
    "|isnumeric()|Returns True if all characters in the string are numeric|\n",
    "|isprintable()|Returns True if all characters in the string are printable|\n",
    "|isspace()|Returns True if all characters in the string are whitespaces|\n",
    "|istitle()|Returns True if the string follows the rules of a title|\n",
    "|isupper()|Returns True if all characters in the string are upper case|\n",
    "|join()|Joins the elements of an iterable to the end of the string|\n",
    "|ljust()|Returns a left justified version of the string|\n",
    "|lower()|Converts a string into lower case|\n",
    "|lstrip()|Returns a left trim version of the string|\n",
    "|maketrans()|Returns a translation table to be used in translations|\n",
    "|partition()|Returns a tuple where the string is parted into three parts|\n",
    "|replace()|Returns a string where a specified value is replaced with a specified value|\n",
    "|rfind()|Searches the string for a specified value and returns the last position of where it was found|\n",
    "|rindex()|Searches the string for a specified value and returns the last position of where it was found|\n",
    "|rjust()|Returns a right justified version of the string|\n",
    "|rpartition()|Returns a tuple where the string is parted into three parts|\n",
    "|rsplit()|Splits the string at the specified separator, and returns a list|\n",
    "|rstrip()|Returns a right trim version of the string|\n",
    "|split()|Splits the string at the specified separator, and returns a list|\n",
    "|splitlines()|Splits the string at line breaks and returns a list|\n",
    "|startswith()|Returns true if the string starts with the specified value|\n",
    "|strip()|Returns a trimmed version of the string|\n",
    "|swapcase()|Swaps cases, lower case becomes upper case and vice versa|\n",
    "|title()|Converts the first character of each word to upper case|\n",
    "|translate()|Returns a translated string|\n",
    "|upper()|Converts a string into upper case|\n",
    "|zfill()|Fills the string with a specified number of 0 values at the beginning|"
   ]
  },
  {
   "cell_type": "markdown",
   "metadata": {
    "id": "A1lW4WMgLeJP"
   },
   "source": [
    "### Python Lists\n",
    "\n",
    "Lists are used to store multiple items in a single variable.\n",
    "\n",
    "Lists are one of 4 built-in data types in Python used to store collections of data, the other 3 are Tuple, Set, and Dictionary, all with different qualities and usage.\n",
    "\n",
    "Lists are created using square brackets:\n",
    "\n"
   ]
  },
  {
   "cell_type": "code",
   "execution_count": 14,
   "metadata": {
    "colab": {
     "base_uri": "https://localhost:8080/"
    },
    "id": "Uj6HZ6Gng3pi",
    "outputId": "b6bc9fc2-3f04-4383-fcc4-e6f4caf7f1d0"
   },
   "outputs": [
    {
     "name": "stdout",
     "output_type": "stream",
     "text": [
      "['apple', 'banana', 'cherry']\n"
     ]
    }
   ],
   "source": [
    "# Creating List\n",
    "thislist = [\"apple\", \"banana\", \"cherry\"]\n",
    "print(thislist)"
   ]
  },
  {
   "cell_type": "markdown",
   "metadata": {
    "id": "j44PPoS9g6jl"
   },
   "source": [
    "#### Changeable\n",
    "The list is changeable, meaning that we can change, add, and remove items in a list after it has been created."
   ]
  },
  {
   "cell_type": "markdown",
   "metadata": {
    "id": "IA1ATghGhDQq"
   },
   "source": [
    "#### List Length\n",
    "\n",
    "To determine how many items a list has, use the len() function:"
   ]
  },
  {
   "cell_type": "code",
   "execution_count": 15,
   "metadata": {
    "colab": {
     "base_uri": "https://localhost:8080/"
    },
    "id": "UOnrQh0khK48",
    "outputId": "ecd66942-b7ce-491a-b08c-78c030252ace"
   },
   "outputs": [
    {
     "name": "stdout",
     "output_type": "stream",
     "text": [
      "3\n"
     ]
    }
   ],
   "source": [
    "thislist = [\"apple\", \"banana\", \"cherry\"]\n",
    "print(len(thislist))"
   ]
  },
  {
   "cell_type": "markdown",
   "metadata": {
    "id": "bsOul2GKhMx9"
   },
   "source": [
    "#### The _list()_ Constructor\n",
    "It is also possible to use the list() constructor when creating a new list."
   ]
  },
  {
   "cell_type": "code",
   "execution_count": 16,
   "metadata": {
    "colab": {
     "base_uri": "https://localhost:8080/"
    },
    "id": "te-8a0R-hZ9D",
    "outputId": "83360467-6207-469b-dad8-a6088baeb730"
   },
   "outputs": [
    {
     "name": "stdout",
     "output_type": "stream",
     "text": [
      "['apple', 'banana', 'cherry']\n"
     ]
    }
   ],
   "source": [
    "thislist = list((\"apple\", \"banana\", \"cherry\")) # note the double round-brackets\n",
    "print(thislist)"
   ]
  },
  {
   "cell_type": "markdown",
   "metadata": {
    "id": "UajLeaeYhb7D"
   },
   "source": [
    "### Python Collections (Arrays)\n",
    "There are four collection data types in the Python programming language:\n",
    "\n",
    "1. **List** is a collection which is ordered and changeable. Allows duplicate members.\n",
    "1. **Tuple** is a collection which is ordered and unchangeable. Allows duplicate members.\n",
    "1. **Set** is a collection which is unordered and unindexed. No duplicate members.\n",
    "1. **Dictionary** is a collection which is ordered* and changeable. No duplicate members."
   ]
  },
  {
   "cell_type": "markdown",
   "metadata": {
    "id": "w3WozdAnjWTk"
   },
   "source": [
    ">As of Python version 3.7, dictionaries are ordered. In Python 3.6 and earlier, dictionaries are unordered."
   ]
  },
  {
   "cell_type": "markdown",
   "metadata": {
    "id": "fc9YomqBjdmu"
   },
   "source": [
    "#### Access Items\n",
    "List items are indexed and you can access them by referring to the index number:"
   ]
  },
  {
   "cell_type": "code",
   "execution_count": 17,
   "metadata": {
    "colab": {
     "base_uri": "https://localhost:8080/"
    },
    "id": "a5tIaKpTjrLf",
    "outputId": "0c7fa4f7-4133-4f98-9d14-b860c0407bdb"
   },
   "outputs": [
    {
     "name": "stdout",
     "output_type": "stream",
     "text": [
      "banana\n"
     ]
    }
   ],
   "source": [
    "thislist = [\"apple\", \"banana\", \"cherry\"]\n",
    "print(thislist[1])"
   ]
  },
  {
   "cell_type": "markdown",
   "metadata": {
    "id": "17YJ4QPNjtDV"
   },
   "source": [
    "#### Negative Indexing\n",
    "Negative indexing means start from the end\n",
    "\n",
    "-1 refers to the last item, -2 refers to the second last item etc."
   ]
  },
  {
   "cell_type": "code",
   "execution_count": 18,
   "metadata": {
    "colab": {
     "base_uri": "https://localhost:8080/"
    },
    "id": "YA9sLAMejyNb",
    "outputId": "4ffd0520-e015-4e1a-bfd0-2476113988d1"
   },
   "outputs": [
    {
     "name": "stdout",
     "output_type": "stream",
     "text": [
      "cherry\n",
      "banana\n",
      "apple\n"
     ]
    }
   ],
   "source": [
    "thislist = [\"apple\", \"banana\", \"cherry\"]\n",
    "print(thislist[-1])\n",
    "print(thislist[-2])\n",
    "print(thislist[-3])"
   ]
  },
  {
   "cell_type": "markdown",
   "metadata": {
    "id": "LJOkkwGAjzy0"
   },
   "source": [
    "#### Range of Indexes\n",
    "You can specify a range of indexes by specifying where to start and where to end the range.\n",
    "\n",
    "When specifying a range, the return value will be a new list with the specified items."
   ]
  },
  {
   "cell_type": "code",
   "execution_count": 19,
   "metadata": {
    "colab": {
     "base_uri": "https://localhost:8080/"
    },
    "id": "YOQES7hnkigd",
    "outputId": "f61ee878-89e1-421d-fa8c-fad095c844fe"
   },
   "outputs": [
    {
     "name": "stdout",
     "output_type": "stream",
     "text": [
      "['cherry', 'orange', 'kiwi']\n"
     ]
    }
   ],
   "source": [
    "thislist = [\"apple\", \"banana\", \"cherry\", \"orange\", \"kiwi\", \"melon\", \"mango\"]\n",
    "print(thislist[2:5])"
   ]
  },
  {
   "cell_type": "markdown",
   "metadata": {
    "id": "6oeDRHgNkkGB"
   },
   "source": [
    ">Note: The search will start at index 2 (included) and end at index 5 (not included)."
   ]
  },
  {
   "cell_type": "markdown",
   "metadata": {
    "id": "1tMijpMakoKv"
   },
   "source": [
    "##### By leaving out the start value, the range will start at the first item:"
   ]
  },
  {
   "cell_type": "code",
   "execution_count": 20,
   "metadata": {
    "colab": {
     "base_uri": "https://localhost:8080/"
    },
    "id": "LI5godnUkupO",
    "outputId": "14be0bdd-b198-4ad0-dfa1-3702bb422b45"
   },
   "outputs": [
    {
     "name": "stdout",
     "output_type": "stream",
     "text": [
      "['apple', 'banana', 'cherry', 'orange']\n"
     ]
    }
   ],
   "source": [
    "thislist = [\"apple\", \"banana\", \"cherry\", \"orange\", \"kiwi\", \"melon\", \"mango\"]\n",
    "print(thislist[:4])"
   ]
  },
  {
   "cell_type": "markdown",
   "metadata": {
    "id": "9KtHA339kwRS"
   },
   "source": [
    "##### By leaving out the end value, the range will go on to the end of the list:"
   ]
  },
  {
   "cell_type": "code",
   "execution_count": 21,
   "metadata": {
    "colab": {
     "base_uri": "https://localhost:8080/"
    },
    "id": "mOhFYzmuk0IC",
    "outputId": "3524bc99-16f9-4577-ea86-c7fd24743120"
   },
   "outputs": [
    {
     "name": "stdout",
     "output_type": "stream",
     "text": [
      "['cherry', 'orange', 'kiwi', 'melon', 'mango']\n",
      "['cherry', 'orange', 'kiwi', 'melon']\n"
     ]
    }
   ],
   "source": [
    "thislist = [\"apple\", \"banana\", \"cherry\", \"orange\", \"kiwi\", \"melon\", \"mango\"]\n",
    "print(thislist[2:])\n",
    "print(thislist[2:6])"
   ]
  },
  {
   "cell_type": "markdown",
   "metadata": {
    "id": "rXPsmLpIk1bx"
   },
   "source": [
    "#### Range of Negative Indexes\n",
    "Specify negative indexes if you want to start the search from the end of the list:"
   ]
  },
  {
   "cell_type": "code",
   "execution_count": 22,
   "metadata": {
    "colab": {
     "base_uri": "https://localhost:8080/"
    },
    "id": "TwpIDPT6k5mG",
    "outputId": "c87f6845-7008-4673-a76c-525f1f97fa6d"
   },
   "outputs": [
    {
     "name": "stdout",
     "output_type": "stream",
     "text": [
      "['orange', 'kiwi', 'melon']\n"
     ]
    }
   ],
   "source": [
    "# This example returns the items from \"orange\" (-4) to, but NOT including \"mango\" (-1):\n",
    "thislist = [\"apple\", \"banana\", \"cherry\", \"orange\", \"kiwi\", \"melon\", \"mango\"]\n",
    "print(thislist[-4:-1])"
   ]
  },
  {
   "cell_type": "markdown",
   "metadata": {
    "id": "F_w_KulGk-Up"
   },
   "source": [
    "#### Check if Item Exists\n",
    "To determine if a specified item is present in a list use the in keyword:"
   ]
  },
  {
   "cell_type": "code",
   "execution_count": 23,
   "metadata": {
    "colab": {
     "base_uri": "https://localhost:8080/"
    },
    "id": "4scTiU5TlDa6",
    "outputId": "89df8b9f-6f9e-4e62-90c9-5a4d30e09f9e"
   },
   "outputs": [
    {
     "name": "stdout",
     "output_type": "stream",
     "text": [
      "Yes, 'apple' is in the fruits list\n"
     ]
    }
   ],
   "source": [
    "#Check if \"apple\" is present in the list:\n",
    "thislist = [\"apple\", \"banana\", \"cherry\"]\n",
    "if \"apple\" in thislist:\n",
    "  print(\"Yes, 'apple' is in the fruits list\")"
   ]
  },
  {
   "cell_type": "markdown",
   "metadata": {
    "id": "BBNJqrxMlFzC"
   },
   "source": [
    "### Insert Items\n",
    "To insert a new list item, without replacing any of the existing values, we can use the insert() method.\n",
    "\n",
    "The insert() method inserts an item at the specified index:"
   ]
  },
  {
   "cell_type": "code",
   "execution_count": 24,
   "metadata": {
    "colab": {
     "base_uri": "https://localhost:8080/"
    },
    "id": "zQER1DnilS5w",
    "outputId": "b79e979d-55db-43fd-9189-34eced582f7b"
   },
   "outputs": [
    {
     "name": "stdout",
     "output_type": "stream",
     "text": [
      "['apple', 'banana', 'watermelon', 'cherry']\n"
     ]
    }
   ],
   "source": [
    "#Insert \"watermelon\" as the third item:\n",
    "thislist = [\"apple\", \"banana\", \"cherry\"]\n",
    "thislist.insert(2, \"watermelon\")\n",
    "print(thislist)"
   ]
  },
  {
   "cell_type": "markdown",
   "metadata": {
    "id": "QfUMtkTnlWPY"
   },
   "source": [
    ">Note: As a result of the example above, the list will now contain 4 items."
   ]
  },
  {
   "cell_type": "markdown",
   "metadata": {
    "id": "FKoYMGG7lZKh"
   },
   "source": [
    "### Python - Add List Items\n",
    "\n",
    "#### Append Items\n",
    "To add an item to the end of the list, use the append() method:"
   ]
  },
  {
   "cell_type": "code",
   "execution_count": 25,
   "metadata": {
    "colab": {
     "base_uri": "https://localhost:8080/"
    },
    "id": "oegDJqQzliXQ",
    "outputId": "4a6a355a-5a32-4b26-fb2e-25ed259833aa"
   },
   "outputs": [
    {
     "name": "stdout",
     "output_type": "stream",
     "text": [
      "['apple', 'banana', 'cherry', 'orange']\n"
     ]
    }
   ],
   "source": [
    "#Using the append() method to append an item:\n",
    "thislist = [\"apple\", \"banana\", \"cherry\"]\n",
    "thislist.append(\"orange\")\n",
    "print(thislist)"
   ]
  },
  {
   "cell_type": "markdown",
   "metadata": {
    "id": "cmERamRSlm5Z"
   },
   "source": [
    "### Extend List\n",
    "To append elements from another list to the current list, use the extend() method."
   ]
  },
  {
   "cell_type": "code",
   "execution_count": 26,
   "metadata": {
    "colab": {
     "base_uri": "https://localhost:8080/"
    },
    "id": "xsfzEJl6lxbC",
    "outputId": "1d52fca6-1de3-4b14-eafa-af52815faca9"
   },
   "outputs": [
    {
     "name": "stdout",
     "output_type": "stream",
     "text": [
      "['apple', 'banana', 'cherry', 'mango', 'pineapple', 'papaya']\n",
      "['apple', 'banana', 'cherry', 'mango', 'pineapple', 'papaya']\n"
     ]
    }
   ],
   "source": [
    "#Add the elements of tropical to thislist:\n",
    "thislist = [\"apple\", \"banana\", \"cherry\"]\n",
    "tropical = [\"mango\", \"pineapple\", \"papaya\"]\n",
    "added_list = thislist + tropical\n",
    "thislist.extend(tropical)\n",
    "print(thislist)\n",
    "\n",
    "print(added_list)"
   ]
  },
  {
   "cell_type": "markdown",
   "metadata": {
    "id": "ydrt0qEjl2Pf"
   },
   "source": [
    "#### Add Any Iterable\n",
    "\n",
    "The extend() method does not have to append lists, you can add any iterable object (tuples, sets, dictionaries etc.)."
   ]
  },
  {
   "cell_type": "code",
   "execution_count": 27,
   "metadata": {
    "colab": {
     "base_uri": "https://localhost:8080/"
    },
    "id": "CixofDKKR5IR",
    "outputId": "493cef08-9c43-4e6e-cf01-b12ab5f5dc3a"
   },
   "outputs": [
    {
     "name": "stdout",
     "output_type": "stream",
     "text": [
      "['apple', 'banana', 'cherry', 'kiwi', 'orange']\n"
     ]
    }
   ],
   "source": [
    "thislist = [\"apple\", \"banana\", \"cherry\"]\n",
    "thistuple = (\"kiwi\", \"orange\")\n",
    "thislist.extend(thistuple)\n",
    "print(thislist)"
   ]
  },
  {
   "cell_type": "markdown",
   "metadata": {
    "id": "AodxFumzR7P9"
   },
   "source": [
    "#### Remove Specified Item\n",
    "\n",
    "The remove() method removes the specified item."
   ]
  },
  {
   "cell_type": "code",
   "execution_count": 28,
   "metadata": {
    "colab": {
     "base_uri": "https://localhost:8080/"
    },
    "id": "utSaSV72SDD-",
    "outputId": "19c9e5c5-f6f0-4678-9e78-4f5e059705fd"
   },
   "outputs": [
    {
     "name": "stdout",
     "output_type": "stream",
     "text": [
      "['apple', 'cherry']\n"
     ]
    }
   ],
   "source": [
    "#Remove \"banana\"\n",
    "thislist = [\"apple\", \"banana\", \"cherry\"]\n",
    "thislist.remove(\"banana\")\n",
    "print(thislist)"
   ]
  },
  {
   "cell_type": "markdown",
   "metadata": {
    "id": "ujwLCitISHtM"
   },
   "source": [
    "#### Remove Specified Index\n",
    "\n",
    "The pop() method removes the specified index."
   ]
  },
  {
   "cell_type": "code",
   "execution_count": 29,
   "metadata": {
    "colab": {
     "base_uri": "https://localhost:8080/"
    },
    "id": "312Kg83GSQ3o",
    "outputId": "a91ad891-47b6-4d21-afc8-3beac9a4c12a"
   },
   "outputs": [
    {
     "name": "stdout",
     "output_type": "stream",
     "text": [
      "['apple', 'banana']\n"
     ]
    }
   ],
   "source": [
    "thislist = [\"apple\", \"banana\", \"cherry\"]\n",
    "thislist.pop(2)\n",
    "print(thislist)"
   ]
  },
  {
   "cell_type": "markdown",
   "metadata": {
    "id": "uURX5L1YSSdN"
   },
   "source": [
    "The del keyword also removes the specified index"
   ]
  },
  {
   "cell_type": "code",
   "execution_count": 30,
   "metadata": {
    "colab": {
     "base_uri": "https://localhost:8080/"
    },
    "id": "3va_QpB_SXKS",
    "outputId": "26222dde-29b4-46c7-91a0-fd5be6df40e2"
   },
   "outputs": [
    {
     "name": "stdout",
     "output_type": "stream",
     "text": [
      "['banana', 'cherry']\n"
     ]
    }
   ],
   "source": [
    "thislist = [\"apple\", \"banana\", \"cherry\"]\n",
    "del thislist[0]\n",
    "print(thislist)"
   ]
  },
  {
   "cell_type": "markdown",
   "metadata": {
    "id": "BMOvNtZwSY37"
   },
   "source": [
    "The del keyword can also delete the list completely."
   ]
  },
  {
   "cell_type": "code",
   "execution_count": 31,
   "metadata": {
    "id": "AQXqw4OVSez-"
   },
   "outputs": [],
   "source": [
    "thislist = [\"apple\", \"banana\", \"cherry\"]\n",
    "del thislist\n",
    "# print(thislist) this will give error as del cleared instance of thislist"
   ]
  },
  {
   "cell_type": "markdown",
   "metadata": {
    "id": "4yNsnFkgShov"
   },
   "source": [
    "#### Clear the List\n",
    "\n",
    "The clear() method empties the list.\n",
    "\n",
    "The list still remains, but it has no content."
   ]
  },
  {
   "cell_type": "code",
   "execution_count": 32,
   "metadata": {
    "colab": {
     "base_uri": "https://localhost:8080/"
    },
    "id": "gqKYTVxkSyxW",
    "outputId": "42f001fd-478a-486c-fd85-839885fc626c"
   },
   "outputs": [
    {
     "name": "stdout",
     "output_type": "stream",
     "text": [
      "[]\n"
     ]
    }
   ],
   "source": [
    "thislist = [\"apple\", \"banana\", \"cherry\"]\n",
    "thislist.clear()\n",
    "print(thislist)"
   ]
  },
  {
   "cell_type": "markdown",
   "metadata": {
    "id": "5jrhpoXQS0fk"
   },
   "source": [
    "##### Loop Through a List\n",
    "\n",
    "You can loop through the list items by using a for loop:"
   ]
  },
  {
   "cell_type": "code",
   "execution_count": 33,
   "metadata": {
    "colab": {
     "base_uri": "https://localhost:8080/"
    },
    "id": "JaMMkgX0S9ix",
    "outputId": "1621dcf6-2290-4999-b63d-8c0f76107f8e"
   },
   "outputs": [
    {
     "name": "stdout",
     "output_type": "stream",
     "text": [
      "apple\n",
      "banana\n",
      "cherry\n"
     ]
    }
   ],
   "source": [
    "thislist = [\"apple\", \"banana\", \"cherry\"]\n",
    "for x in thislist:\n",
    "  print(x)"
   ]
  },
  {
   "cell_type": "markdown",
   "metadata": {
    "id": "uJ7xm8_RS_U4"
   },
   "source": [
    "#### Looping Using List Comprehension\n",
    "List Comprehension offers the shortest syntax for looping through lists:"
   ]
  },
  {
   "cell_type": "code",
   "execution_count": 34,
   "metadata": {
    "colab": {
     "base_uri": "https://localhost:8080/",
     "height": 85
    },
    "id": "HPIUzTnMTKRI",
    "outputId": "97c6d5d5-540d-4e1e-fe3b-f13929a20107"
   },
   "outputs": [
    {
     "name": "stdout",
     "output_type": "stream",
     "text": [
      "apple\n",
      "banana\n",
      "cherry\n"
     ]
    },
    {
     "data": {
      "text/plain": [
       "[None, None, None]"
      ]
     },
     "metadata": {},
     "output_type": "display_data"
    }
   ],
   "source": [
    "newlist = [\"apple\", \"banana\", \"cherry\"]\n",
    "display([print(x) for x in newlist])"
   ]
  },
  {
   "cell_type": "markdown",
   "metadata": {
    "id": "lWjT2f53TMLp"
   },
   "source": [
    "### Python - List Comprehension\n",
    "\n",
    "List comprehension offers a shorter syntax when you want to create a new list based on the values of an existing list."
   ]
  },
  {
   "cell_type": "code",
   "execution_count": 35,
   "metadata": {
    "colab": {
     "base_uri": "https://localhost:8080/"
    },
    "id": "x_P5LT2-V-QQ",
    "outputId": "1e657c92-4fd5-461b-b41a-71933c04a62e"
   },
   "outputs": [
    {
     "name": "stdout",
     "output_type": "stream",
     "text": [
      "['apple', 'banana', 'mango']\n"
     ]
    }
   ],
   "source": [
    "fruits = [\"apple\", \"banana\", \"cherry\", \"kiwi\", \"mango\"]\n",
    "\n",
    "newlist = [x for x in fruits if \"a\" in x]\n",
    "\n",
    "print(newlist)"
   ]
  },
  {
   "cell_type": "markdown",
   "metadata": {
    "id": "Vxph5MWRWBYX"
   },
   "source": [
    "#### List Comprehension Syntax\n",
    "\n",
    "```python\n",
    "newlist = [expression for item in iterable if condition == True]\n",
    "```"
   ]
  },
  {
   "cell_type": "markdown",
   "metadata": {
    "id": "Ky0-eFWMWMZa"
   },
   "source": [
    "#### Condition in list comprehension\n",
    "\n",
    "The condition is like a filter that only accepts the items that valuate to True."
   ]
  },
  {
   "cell_type": "code",
   "execution_count": 36,
   "metadata": {
    "id": "tUQZL1rfWV3w"
   },
   "outputs": [],
   "source": [
    "newlist = [x for x in fruits if x != \"apple\"]"
   ]
  },
  {
   "cell_type": "markdown",
   "metadata": {
    "id": "HDVAv49xWYzu"
   },
   "source": [
    "### Python - Sort Lists\n",
    "**Sort List Alphanumerically**\n",
    "\n",
    "List objects have a sort() method that will sort the list alphanumerically, ascending, by default:"
   ]
  },
  {
   "cell_type": "code",
   "execution_count": 37,
   "metadata": {
    "colab": {
     "base_uri": "https://localhost:8080/"
    },
    "id": "P-xXpMtZW26M",
    "outputId": "8f065bde-b921-49a9-b186-b05b29d2b54c"
   },
   "outputs": [
    {
     "name": "stdout",
     "output_type": "stream",
     "text": [
      "['banana', 'kiwi', 'mango', 'orange', 'pineapple']\n"
     ]
    }
   ],
   "source": [
    "thislist = [\"orange\", \"mango\", \"kiwi\", \"pineapple\", \"banana\"]\n",
    "thislist.sort()\n",
    "print(thislist)"
   ]
  },
  {
   "cell_type": "code",
   "execution_count": 38,
   "metadata": {
    "colab": {
     "base_uri": "https://localhost:8080/"
    },
    "id": "2jOYng7hW3mA",
    "outputId": "5f2ed2d1-d5ee-40e5-a926-b9c591caf4f8"
   },
   "outputs": [
    {
     "name": "stdout",
     "output_type": "stream",
     "text": [
      "[23, 50, 65, 82, 100]\n"
     ]
    }
   ],
   "source": [
    "#Sort the list numerically:\n",
    "\n",
    "thislist = [100, 50, 65, 82, 23]\n",
    "thislist.sort()\n",
    "print(thislist)"
   ]
  },
  {
   "cell_type": "markdown",
   "metadata": {
    "id": "8An-sSNsW-jd"
   },
   "source": [
    "#### Sort Descending\n",
    "To sort descending, use the keyword argument reverse = True:"
   ]
  },
  {
   "cell_type": "code",
   "execution_count": 39,
   "metadata": {
    "colab": {
     "base_uri": "https://localhost:8080/"
    },
    "id": "fYXX_5c1XCVW",
    "outputId": "b8ac61a6-7322-4f40-8e4f-70fcc367b3d4"
   },
   "outputs": [
    {
     "name": "stdout",
     "output_type": "stream",
     "text": [
      "['pineapple', 'orange', 'mango', 'kiwi', 'banana']\n"
     ]
    }
   ],
   "source": [
    "thislist = [\"orange\", \"mango\", \"kiwi\", \"pineapple\", \"banana\"]\n",
    "thislist.sort(reverse = True)\n",
    "print(thislist)"
   ]
  },
  {
   "cell_type": "markdown",
   "metadata": {
    "id": "4HSt2UudXE4d"
   },
   "source": [
    "### Python - List methods\n",
    "\n",
    "|Method|Description|\n",
    "|--- |--- |\n",
    "|append()|Adds an element at the end of the list|\n",
    "|clear()|Removes all the elements from the list|\n",
    "|copy()|Returns a copy of the list|\n",
    "|count()|Returns the number of elements with the specified value|\n",
    "|extend()|Add the elements of a list (or any iterable), to the end of the current list|\n",
    "|index()|Returns the index of the first element with the specified value|\n",
    "|insert()|Adds an element at the specified position|\n",
    "|pop()|Removes the element at the specified position|\n",
    "|remove()|Removes the item with the specified value|\n",
    "|reverse()|Reverses the order of the list|\n",
    "|sort()|Sorts the list|\n"
   ]
  },
  {
   "cell_type": "code",
   "execution_count": 40,
   "metadata": {
    "colab": {
     "base_uri": "https://localhost:8080/"
    },
    "id": "AXux_JZXXwcR",
    "outputId": "15485591-ed80-4792-82b1-8cafe7f7c831"
   },
   "outputs": [
    {
     "data": {
      "text/plain": [
       "True"
      ]
     },
     "execution_count": 40,
     "metadata": {},
     "output_type": "execute_result"
    }
   ],
   "source": [
    "(1, 2, 3)              < (1, 2, 4)\n",
    "[1, 2, 3]              < [1, 2, 4]\n",
    "'ABC' < 'C' < 'Pascal' < 'Python'\n",
    "(1, 2, 3, 4)           < (1, 2, 4)\n",
    "(1, 2)                 < (1, 2, -1)\n",
    "(1, 2, 3)             == (1.0, 2.0, 3.0)\n",
    "(1, 2, ('aa', 'ab'))   < (1, 2, ('abc', 'a'), 4)"
   ]
  },
  {
   "cell_type": "code",
   "execution_count": 41,
   "metadata": {
    "colab": {
     "base_uri": "https://localhost:8080/"
    },
    "id": "KFCWFvwGs3U6",
    "outputId": "3c4ff2a1-2df3-49ad-cd15-1cef45686737"
   },
   "outputs": [
    {
     "data": {
      "text/plain": [
       "True"
      ]
     },
     "execution_count": 41,
     "metadata": {},
     "output_type": "execute_result"
    }
   ],
   "source": [
    "(1, 2, 3) ==  (1, 2, 3)"
   ]
  },
  {
   "cell_type": "markdown",
   "metadata": {
    "id": "IwN1Im_iVv6W"
   },
   "source": [
    "## Python - Classes and Object\n",
    "\n",
    "Python is an object oriented programming language.\n",
    "\n",
    "Almost everything in Python is an object, with its properties and methods.\n",
    "\n",
    "A Class is like an object constructor, or a \"blueprint\" for creating objects."
   ]
  },
  {
   "cell_type": "code",
   "execution_count": 42,
   "metadata": {
    "colab": {
     "base_uri": "https://localhost:8080/"
    },
    "id": "qzZJenr1VzlS",
    "outputId": "d5efbeb7-d8f0-4c57-d64e-ce57c71e0cc5"
   },
   "outputs": [
    {
     "name": "stdout",
     "output_type": "stream",
     "text": [
      "5\n"
     ]
    }
   ],
   "source": [
    "class myClass:\n",
    "  x = 5\n",
    "\n",
    "y = myClass()\n",
    "print(y.x)"
   ]
  },
  {
   "cell_type": "markdown",
   "metadata": {
    "id": "MTaxv78aWIeb"
   },
   "source": [
    "### The __init__() Function\n",
    "\n",
    "The examples above are classes and objects in their simplest form, and are not really useful in real life applications.\n",
    "\n",
    "To understand the meaning of classes we have to understand the built-in **\\__init__()** function.\n",
    "\n",
    "All classes have a function called **\\__init__()**, which is always executed when the class is being initiated.\n",
    "\n",
    "Use the **\\__init__()** function to assign values to object properties, or other operations that are necessary to do when the object is being created:"
   ]
  },
  {
   "cell_type": "code",
   "execution_count": 43,
   "metadata": {
    "colab": {
     "base_uri": "https://localhost:8080/"
    },
    "id": "HRE-7tWDWqPP",
    "outputId": "dba2aa73-9077-4115-c72d-441aa5fb7fd8"
   },
   "outputs": [
    {
     "name": "stdout",
     "output_type": "stream",
     "text": [
      "my name is Rambo, my age is 25\n",
      "None\n"
     ]
    }
   ],
   "source": [
    "#Create a class named Person, use the __init__() function to assign values for name and age:\n",
    "class Person:\n",
    "  def __init__(self, name, age):\n",
    "    self.name = name\n",
    "    self.age = age\n",
    "  \n",
    "  def introduction(self):\n",
    "    print(f\"my name is {self.name}, my age is {self.age}\")\n",
    "\n",
    "person = Person(\"Rambo\", 25)\n",
    "\n",
    "print(person.introduction())"
   ]
  },
  {
   "cell_type": "markdown",
   "metadata": {
    "id": "rNs1ormhXUFt"
   },
   "source": [
    "Note: The **\\__init__()** function is called automatically every time the class is being used to create a new object."
   ]
  },
  {
   "cell_type": "markdown",
   "metadata": {
    "id": "21_DjadqX-ie"
   },
   "source": [
    "#### Object Methods\n",
    "Objects can also contain methods. Methods in objects are functions that belong to the object."
   ]
  },
  {
   "cell_type": "code",
   "execution_count": 44,
   "metadata": {
    "colab": {
     "base_uri": "https://localhost:8080/"
    },
    "id": "ZGeYzbY5YKxa",
    "outputId": "fb58b1b9-8ad5-41c3-d3da-60f01abea1f3"
   },
   "outputs": [
    {
     "name": "stdout",
     "output_type": "stream",
     "text": [
      "Hello my name is John\n"
     ]
    }
   ],
   "source": [
    "# Insert a function that prints a greeting, and execute it on the p1 object:\n",
    "class Person:\n",
    "  def __init__(self, name, age):\n",
    "    self.name = name\n",
    "    self.age = age\n",
    "\n",
    "  def myfunc(self):\n",
    "    print(f\"Hello my name is {self.name}\")\n",
    "\n",
    "p1 = Person(\"John\", 36)\n",
    "p1.myfunc()"
   ]
  },
  {
   "cell_type": "markdown",
   "metadata": {
    "id": "IrFOKCZMZQBR"
   },
   "source": [
    "> **Note**: The **self** parameter is a reference to the current instance of the class, and is used to access variables that belong to the class."
   ]
  },
  {
   "cell_type": "markdown",
   "metadata": {
    "id": "kkypCNRbZapW"
   },
   "source": [
    "#### The self Parameter\n",
    "\n",
    "The **self** parameter is a reference to the current instance of the class, and is used to access variables that belongs to the class.\n",
    "\n",
    "It does not have to be named **self** , you can call it whatever you like, but it has to be the first parameter of any function in the class:"
   ]
  },
  {
   "cell_type": "code",
   "execution_count": 45,
   "metadata": {
    "colab": {
     "base_uri": "https://localhost:8080/"
    },
    "id": "lVegQM4-ZuaJ",
    "outputId": "d6665e3c-4660-4bd2-c156-af985cc64f2a"
   },
   "outputs": [
    {
     "name": "stdout",
     "output_type": "stream",
     "text": [
      "My name is Hulk, and my age is 233\n"
     ]
    }
   ],
   "source": [
    "class Person:\n",
    "  def __init__(somethingelse, name, age):\n",
    "    somethingelse.name = name\n",
    "    somethingelse.age = age\n",
    "  \n",
    "  def introduction(intro):\n",
    "    print(f\"My name is {intro.name}, and my age is {intro.age}\")\n",
    "\n",
    "\n",
    "person = Person(\"Hulk\", 233)\n",
    "\n",
    "person.introduction()"
   ]
  },
  {
   "cell_type": "markdown",
   "metadata": {
    "id": "iAs1HNRCaRam"
   },
   "source": [
    "### Modify Object Properties\n",
    "You can modify properties on objects like this:"
   ]
  },
  {
   "cell_type": "code",
   "execution_count": 46,
   "metadata": {
    "colab": {
     "base_uri": "https://localhost:8080/"
    },
    "id": "uOzTvwHma7uS",
    "outputId": "a817b0c3-a33b-4bcc-c938-410ad0b17382"
   },
   "outputs": [
    {
     "name": "stdout",
     "output_type": "stream",
     "text": [
      "My name is Batman, and my age is 233\n"
     ]
    }
   ],
   "source": [
    "person.name = \"Batman\"\n",
    "person.introduction()"
   ]
  },
  {
   "cell_type": "markdown",
   "metadata": {
    "id": "xPZID73bbAMI"
   },
   "source": [
    "### Python - Inheritance\n",
    "\n",
    "Inheritance allows us to define a class that inherits all the methods and properties from another class.\n",
    "\n",
    "**Parent class** is the class being inherited from, also called base class.\n",
    "\n",
    "**Child class** is the class that inherits from another class, also called derived class"
   ]
  },
  {
   "cell_type": "code",
   "execution_count": 47,
   "metadata": {
    "colab": {
     "base_uri": "https://localhost:8080/"
    },
    "id": "V5aA5LqedDoc",
    "outputId": "1d79c99b-148e-430b-f75d-a8f4111ec349"
   },
   "outputs": [
    {
     "name": "stdout",
     "output_type": "stream",
     "text": [
      "My name is Hulk, and my age is 343\n",
      "My name is Wonder women, my age is 550 and I am a Girl\n"
     ]
    }
   ],
   "source": [
    "class Person:\n",
    "  # constructor\n",
    "  def __init__(self, name, age):\n",
    "    self.name = name\n",
    "    self.age = age\n",
    "  \n",
    "  def intorduction(self):\n",
    "    print(f\"My name is {self.name}, and my age is {self.age}\")\n",
    "\n",
    "class Student(Person):\n",
    "  # constructor\n",
    "  def __init__(self, name, age, gender):\n",
    "    super().__init__(name, age)\n",
    "    self.gender = gender\n",
    "  \n",
    "  def introduction(self):\n",
    "    print(f\"My name is {self.name}, my age is {self.age} and I am a {self.gender}\")\n",
    "\n",
    "\n",
    "person = Person(\"Hulk\", 343)\n",
    "person.intorduction()\n",
    "\n",
    "stu = Student(\"Wonder women\", 550, \"Girl\")\n",
    "stu.introduction()\n"
   ]
  },
  {
   "cell_type": "markdown",
   "metadata": {
    "id": "Xc94dgI4qKwO"
   },
   "source": [
    "#### Python Iterators\n",
    "An iterator is an object that contains a countable number of values.\n",
    "\n",
    "An iterator is an object that can be iterated upon, meaning that you can traverse through all the values.\n",
    "\n",
    "Technically, in Python, an iterator is an object which implements the iterator protocol, which consist of the methods **\\_\\_iter__()** and **\\_\\_next__()**."
   ]
  },
  {
   "cell_type": "markdown",
   "metadata": {
    "id": "3SimV-TSrL-g"
   },
   "source": [
    "#### Iterator vs Iterable\n",
    "Lists, tuples, dictionaries, and sets are all iterable objects. They are iterable containers which you can get an iterator from.\n",
    "\n",
    "All these objects have a **iter()** method which is used to get an iterator:"
   ]
  },
  {
   "cell_type": "code",
   "execution_count": 48,
   "metadata": {
    "colab": {
     "base_uri": "https://localhost:8080/"
    },
    "id": "PVJVg9-VrVan",
    "outputId": "97abc13e-b2f4-4037-db43-80dfbbd586c5"
   },
   "outputs": [
    {
     "name": "stdout",
     "output_type": "stream",
     "text": [
      "apple\n",
      "banana\n",
      "cherry\n"
     ]
    }
   ],
   "source": [
    "myTuple = [\"apple\", \"banana\", \"cherry\"]\n",
    "myIter = iter(myTuple)\n",
    "print(next(myIter))\n",
    "print(next(myIter))\n",
    "print(next(myIter))\n"
   ]
  },
  {
   "cell_type": "markdown",
   "metadata": {
    "id": "SzatSkXArnGn"
   },
   "source": [
    "Even strings are iterable objects, and can return an iterator:"
   ]
  },
  {
   "cell_type": "code",
   "execution_count": 49,
   "metadata": {
    "colab": {
     "base_uri": "https://localhost:8080/"
    },
    "id": "E2XwZ1-CrzqH",
    "outputId": "7651d5de-138e-4a8d-a2a6-b236d7fc6b5c"
   },
   "outputs": [
    {
     "name": "stdout",
     "output_type": "stream",
     "text": [
      "t\n",
      "a\n",
      "b\n",
      "l\n",
      "e\n"
     ]
    }
   ],
   "source": [
    "mystr = \"table\"\n",
    "strIter = iter(mystr)\n",
    "print(next(strIter))\n",
    "print(next(strIter))\n",
    "print(next(strIter))\n",
    "print(next(strIter))\n",
    "print(next(strIter))"
   ]
  },
  {
   "cell_type": "markdown",
   "metadata": {
    "id": "F_JuujApsBfc"
   },
   "source": [
    "### Looping Through an Iterator\n",
    "\n",
    "We can also use a **for** loop to iterate through an iterable object:"
   ]
  },
  {
   "cell_type": "code",
   "execution_count": 50,
   "metadata": {
    "colab": {
     "base_uri": "https://localhost:8080/"
    },
    "id": "6N6kYilpsfVM",
    "outputId": "80642f58-3767-4865-f742-3b962df128b7"
   },
   "outputs": [
    {
     "name": "stdout",
     "output_type": "stream",
     "text": [
      "apple\n",
      "banana\n",
      "cherry\n"
     ]
    }
   ],
   "source": [
    "myList = [\"apple\", \"banana\", \"cherry\"]\n",
    "myIter = iter(myList)\n",
    "\n",
    "for item in myIter:\n",
    "  print(item)"
   ]
  },
  {
   "cell_type": "markdown",
   "metadata": {
    "id": "BtQPi5QQs9Wd"
   },
   "source": [
    "The **for** loop actually creates an iterator object and executes the next() method for each loop."
   ]
  },
  {
   "cell_type": "markdown",
   "metadata": {
    "id": "AmSLfnPutdcR"
   },
   "source": [
    "### Create an Iterator\n",
    "To create an object/class as an iterator you have to implement the methods **\\_\\_iter__()** and **\\_\\_next__()** to your object.\n",
    "\n",
    "As you have learned in the Python Classes/Objects chapter, all classes have a function called **\\_\\_init__()**, which allows you to do some initializing when the object is being created.\n",
    "\n",
    "The **\\_\\_iter__()** method acts similar, you can do operations (initializing etc.), but must always return the iterator object itself.\n",
    "\n",
    "The **\\_\\_next__()** method also allows you to do operations, and must return the next item in the sequence."
   ]
  },
  {
   "cell_type": "code",
   "execution_count": 51,
   "metadata": {
    "colab": {
     "base_uri": "https://localhost:8080/"
    },
    "id": "o32yBHOPueID",
    "outputId": "c799e70c-d2e3-4291-ff7e-875ac8d6ec3c"
   },
   "outputs": [
    {
     "name": "stdout",
     "output_type": "stream",
     "text": [
      "1\n",
      "2\n",
      "3\n",
      "4\n",
      "5\n",
      "6\n",
      "7\n",
      "8\n",
      "9\n",
      "10\n",
      "11\n"
     ]
    }
   ],
   "source": [
    "class MyIterator:\n",
    "  def __iter__(self):\n",
    "    self.a = 1\n",
    "    return self\n",
    "  \n",
    "  def __next__(self):\n",
    "    x = self.a\n",
    "    self.a += 1\n",
    "    return x\n",
    "\n",
    "myIterator = MyIterator()\n",
    "customIter = iter(myIterator)\n",
    "\n",
    "print(next(customIter))\n",
    "print(next(customIter))\n",
    "print(next(customIter))\n",
    "print(next(customIter))\n",
    "print(next(customIter))\n",
    "print(next(customIter))\n",
    "print(next(customIter))\n",
    "print(next(customIter))\n",
    "print(next(customIter))\n",
    "print(next(customIter))\n",
    "print(next(customIter))"
   ]
  },
  {
   "cell_type": "markdown",
   "metadata": {
    "id": "StU5dFfNvZuJ"
   },
   "source": [
    "### StopIteration\n",
    "The example above would continue forever if you had enough next() statements, or if it was used in a for loop.\n",
    "\n",
    "To prevent the iteration to go on forever, we can use the **StopIteration** statement.\n",
    "\n",
    "In the **\\_\\_next__()** method, we can add a terminating condition to raise an error if the iteration is done a specified number of times:"
   ]
  },
  {
   "cell_type": "code",
   "execution_count": 52,
   "metadata": {
    "colab": {
     "base_uri": "https://localhost:8080/"
    },
    "id": "8DaHZF0UxPbC",
    "outputId": "1795dfdc-b2a4-4254-e468-169dfbc48450"
   },
   "outputs": [
    {
     "name": "stdout",
     "output_type": "stream",
     "text": [
      "1\n",
      "2\n",
      "3\n",
      "4\n",
      "5\n",
      "6\n",
      "7\n",
      "8\n",
      "9\n",
      "10\n",
      "11\n",
      "12\n",
      "13\n",
      "14\n",
      "15\n",
      "16\n",
      "17\n",
      "18\n",
      "19\n",
      "20\n"
     ]
    }
   ],
   "source": [
    "class CustomIterator:\n",
    "  def __iter__(self):\n",
    "    self.a = 1\n",
    "    return self\n",
    "  \n",
    "  def __next__(self):\n",
    "    if self.a <= 20:\n",
    "      x = self.a\n",
    "      self.a += 1\n",
    "      return x\n",
    "    else:\n",
    "      raise StopIteration\n",
    "\n",
    "custIt = CustomIterator()\n",
    "ci = iter(custIt)\n",
    "\n",
    "for i in ci:\n",
    "  print(i)"
   ]
  },
  {
   "cell_type": "markdown",
   "metadata": {
    "id": "YASWiZsox2tA"
   },
   "source": [
    "### Python - Exception Handling \n",
    "The **try** block lets you test a block of code for errors.\n",
    "\n",
    "The **except** block lets you handle the error.\n",
    "\n",
    "The **finally** block lets you execute code, regardless of the result of the try- and except blocks."
   ]
  },
  {
   "cell_type": "code",
   "execution_count": 53,
   "metadata": {
    "colab": {
     "base_uri": "https://localhost:8080/"
    },
    "id": "AzsM2T4YzHnB",
    "outputId": "cc4ee233-69e9-46fb-c6ef-167761dc20ac"
   },
   "outputs": [
    {
     "name": "stdout",
     "output_type": "stream",
     "text": [
      "An exception occured\n"
     ]
    }
   ],
   "source": [
    "try:\n",
    "  print(hello)\n",
    "except:\n",
    "  print(\"An exception occured\")"
   ]
  },
  {
   "cell_type": "markdown",
   "metadata": {
    "id": "6IQi0OsxzQiQ"
   },
   "source": [
    "#### Many Exceptions\n",
    "You can define as many exception blocks as you want, e.g. if you want to execute a special block of code for a special kind of error:"
   ]
  },
  {
   "cell_type": "code",
   "execution_count": 54,
   "metadata": {
    "colab": {
     "base_uri": "https://localhost:8080/"
    },
    "id": "Nd1hKtX9000F",
    "outputId": "321563a2-fbab-4fa4-a921-7c85cc96381a"
   },
   "outputs": [
    {
     "name": "stdout",
     "output_type": "stream",
     "text": [
      "A name error happened\n"
     ]
    }
   ],
   "source": [
    "try:\n",
    "  print(hello)\n",
    "except NameError:\n",
    "  print(\"A name error happened\")\n",
    "except:\n",
    "  print(\"Some error happened\")"
   ]
  },
  {
   "cell_type": "markdown",
   "metadata": {
    "id": "rTa35rhv1Fv4"
   },
   "source": [
    "#### Else\n",
    "You can use the **else** keyword to define a block of code to be executed if no errors were raised:"
   ]
  },
  {
   "cell_type": "code",
   "execution_count": 55,
   "metadata": {
    "colab": {
     "base_uri": "https://localhost:8080/"
    },
    "id": "rPKdBbbq1BEJ",
    "outputId": "7aa76ca8-f961-4ae4-a598-81c45bb6bcc5"
   },
   "outputs": [
    {
     "name": "stdout",
     "output_type": "stream",
     "text": [
      "Hello Superman\n",
      "No exception occured code running fine\n"
     ]
    }
   ],
   "source": [
    "try:\n",
    "  print(\"Hello Superman\")\n",
    "except:\n",
    "  print(\"An exception occured\")\n",
    "else:\n",
    "  print(\"No exception occured code running fine\")"
   ]
  },
  {
   "cell_type": "markdown",
   "metadata": {
    "id": "Y5m_NAyk1gKK"
   },
   "source": [
    "#### Finally\n",
    "The **finally** block, if specified, will be executed regardless if the try block raises an error or not."
   ]
  },
  {
   "cell_type": "code",
   "execution_count": 56,
   "metadata": {
    "colab": {
     "base_uri": "https://localhost:8080/"
    },
    "id": "N94cFvOQ1yVQ",
    "outputId": "3af3010d-ef06-4d5c-fdf9-c71800ac1b61"
   },
   "outputs": [
    {
     "name": "stdout",
     "output_type": "stream",
     "text": [
      "An error has occured\n",
      "The 'try and excpet' block completed\n"
     ]
    }
   ],
   "source": [
    "try:\n",
    "  print(hello)\n",
    "except:\n",
    "  print(\"An error has occured\")\n",
    "finally:\n",
    "  print(\"The 'try and excpet' block completed\")"
   ]
  },
  {
   "cell_type": "markdown",
   "metadata": {
    "id": "FqSOxuLn199B"
   },
   "source": [
    "This can be useful to close objects and clean up resources:"
   ]
  },
  {
   "cell_type": "markdown",
   "metadata": {
    "id": "685J8SQ42aUa"
   },
   "source": [
    "#### Raise an exception\n",
    "As a Python developer you can choose to throw an exception if a condition occurs.\n",
    "\n",
    "To throw (or raise) an exception, use the raise keyword."
   ]
  },
  {
   "cell_type": "code",
   "execution_count": 57,
   "metadata": {
    "id": "BFTNCa3h7Up0"
   },
   "outputs": [],
   "source": [
    "x = 5\n",
    "\n",
    "if x > 6:\n",
    "  raise Exception(\"Number isn't greater than 6\")"
   ]
  },
  {
   "cell_type": "markdown",
   "metadata": {
    "id": "s6GvAOElLYS9"
   },
   "source": [
    "## Chaining Method in python"
   ]
  },
  {
   "cell_type": "code",
   "execution_count": 58,
   "metadata": {
    "colab": {
     "base_uri": "https://localhost:8080/"
    },
    "id": "1oDEnr_yMMq0",
    "outputId": "c35d12f6-f686-4076-bed2-9557e49a2c6a"
   },
   "outputs": [
    {
     "name": "stdout",
     "output_type": "stream",
     "text": [
      "1,2,3,4,5\n",
      "1,2,3,4,5\n"
     ]
    }
   ],
   "source": [
    "class ChainingClass:\n",
    "\n",
    "  def __init__(self, data = ''):\n",
    "    self.__obj = data\n",
    "  \n",
    "  def __repr__(self):\n",
    "    return f\"{self.__obj}\"\n",
    "  \n",
    "  # First Method for chaining\n",
    "  def toList(self):\n",
    "    return ChainingClass(self.__obj.split(\",\"))\n",
    "\n",
    "  def toString(self):\n",
    "    return ChainingClass(\",\".join(self.__obj))\n",
    "  \n",
    "  # Second Method to chaining\n",
    "  def toList1(self):\n",
    "    self.__obj = self.__obj.split(\",\")\n",
    "    return self\n",
    "\n",
    "  def toString1(self):\n",
    "    self.__obj = \",\".join(self.__obj)\n",
    "    return self\n",
    "\n",
    "if __name__ == \"__main__\":\n",
    "  \n",
    "  st1 = \"1,2,3,4,5\"\n",
    "  d1 = ChainingClass(st1)\n",
    "  print(d1.toList().toString())\n",
    "  print(d1.toList1().toString1())\n",
    "\n",
    "  \n",
    "  "
   ]
  },
  {
   "cell_type": "markdown",
   "metadata": {
    "id": "Zc6p3L8WNZXd"
   },
   "source": []
  },
  {
   "cell_type": "markdown",
   "metadata": {
    "id": "t42j1K43xaYZ"
   },
   "source": [
    "### Python - Magical or Dunder methods\n",
    "\n",
    "Magic methods in Python are the special methods that start and end with the double underscores. They are also called dunder methods. Magic methods are not meant to be invoked directly by you, but the invocation happens internally from the class on a certain action. For example, when you add two numbers using the + operator, internally, the **\\_\\_add__()** method will be called.\n",
    "\n",
    "Built-in classes in Python define many magic methods. Use the **dir()** function to see the number of magic methods inherited by a class. For example, the following lists all the attributes and methods defined in the **int** class."
   ]
  },
  {
   "cell_type": "code",
   "execution_count": 59,
   "metadata": {
    "colab": {
     "base_uri": "https://localhost:8080/"
    },
    "id": "Szx99xb7xfNb",
    "outputId": "822857da-2591-4807-b6c8-a38edae597e7"
   },
   "outputs": [
    {
     "data": {
      "text/plain": [
       "['__abs__',\n",
       " '__add__',\n",
       " '__and__',\n",
       " '__bool__',\n",
       " '__ceil__',\n",
       " '__class__',\n",
       " '__delattr__',\n",
       " '__dir__',\n",
       " '__divmod__',\n",
       " '__doc__',\n",
       " '__eq__',\n",
       " '__float__',\n",
       " '__floor__',\n",
       " '__floordiv__',\n",
       " '__format__',\n",
       " '__ge__',\n",
       " '__getattribute__',\n",
       " '__getnewargs__',\n",
       " '__getstate__',\n",
       " '__gt__',\n",
       " '__hash__',\n",
       " '__index__',\n",
       " '__init__',\n",
       " '__init_subclass__',\n",
       " '__int__',\n",
       " '__invert__',\n",
       " '__le__',\n",
       " '__lshift__',\n",
       " '__lt__',\n",
       " '__mod__',\n",
       " '__mul__',\n",
       " '__ne__',\n",
       " '__neg__',\n",
       " '__new__',\n",
       " '__or__',\n",
       " '__pos__',\n",
       " '__pow__',\n",
       " '__radd__',\n",
       " '__rand__',\n",
       " '__rdivmod__',\n",
       " '__reduce__',\n",
       " '__reduce_ex__',\n",
       " '__repr__',\n",
       " '__rfloordiv__',\n",
       " '__rlshift__',\n",
       " '__rmod__',\n",
       " '__rmul__',\n",
       " '__ror__',\n",
       " '__round__',\n",
       " '__rpow__',\n",
       " '__rrshift__',\n",
       " '__rshift__',\n",
       " '__rsub__',\n",
       " '__rtruediv__',\n",
       " '__rxor__',\n",
       " '__setattr__',\n",
       " '__sizeof__',\n",
       " '__str__',\n",
       " '__sub__',\n",
       " '__subclasshook__',\n",
       " '__truediv__',\n",
       " '__trunc__',\n",
       " '__xor__',\n",
       " 'as_integer_ratio',\n",
       " 'bit_count',\n",
       " 'bit_length',\n",
       " 'conjugate',\n",
       " 'denominator',\n",
       " 'from_bytes',\n",
       " 'imag',\n",
       " 'numerator',\n",
       " 'real',\n",
       " 'to_bytes']"
      ]
     },
     "execution_count": 59,
     "metadata": {},
     "output_type": "execute_result"
    }
   ],
   "source": [
    "dir(int)"
   ]
  },
  {
   "cell_type": "markdown",
   "metadata": {
    "id": "22FiAgDlzOG1"
   },
   "source": [
    "### repr() vs str() in Python\n",
    "\n",
    "Apparently, there seems to be no difference between behavior of the **\\_\\_str__()** and **\\_\\_repr__()**. However, if we take a string object, the difference will be evident."
   ]
  },
  {
   "cell_type": "code",
   "execution_count": 60,
   "metadata": {
    "colab": {
     "base_uri": "https://localhost:8080/"
    },
    "id": "EWuabQbr0C2a",
    "outputId": "89933555-d9eb-4b4a-df29-43ae425d1041"
   },
   "outputs": [
    {
     "name": "stdout",
     "output_type": "stream",
     "text": [
      "Hello Himanshu\n",
      "'Hello Himanshu'\n"
     ]
    }
   ],
   "source": [
    "x = \"Hello Himanshu\"\n",
    "print(x.__str__())\n",
    "print(x.__repr__())"
   ]
  },
  {
   "cell_type": "markdown",
   "metadata": {
    "id": "sJ23OpmQ0bnA"
   },
   "source": [
    "Output of **\\_\\_repr__()** is in quotes whereas that of **\\_\\_str__()** is not. The reason can be traced to official definitions of these functions, which says that **\\_\\_repr__()** method and hence (repr() function) computes official string representation of an object. The str() function i.e. **\\_\\_str__()** method returns an informal or printable string representation of concerned object, which is used by the print() and format() functions."
   ]
  },
  {
   "cell_type": "markdown",
   "metadata": {
    "id": "36fd4wTCzLVk"
   },
   "source": [
    "### Acces Modifiers - Python - Public, Protected, Private Members\n",
    "\n",
    "#### Public Members\n",
    "\n",
    "Public members (generally methods declared in a class) are accessible from outside the class. The object of the same class is required to invoke a public method. This arrangement of private instance variables and public methods ensures the principle of data encapsulation.\n",
    "\n",
    "All members in a Python class are public by default. Any member can be accessed from outside the class environment."
   ]
  },
  {
   "cell_type": "code",
   "execution_count": 61,
   "metadata": {
    "colab": {
     "base_uri": "https://localhost:8080/",
     "height": 70
    },
    "id": "-Zuk6NXCs1h9",
    "outputId": "695d7fff-987b-4356-f735-087d9da7e46b"
   },
   "outputs": [
    {
     "data": {
      "text/plain": [
       "'Ram Narayan Aryan'"
      ]
     },
     "metadata": {},
     "output_type": "display_data"
    },
    {
     "data": {
      "text/plain": [
       "'Rahul'"
      ]
     },
     "metadata": {},
     "output_type": "display_data"
    },
    {
     "data": {
      "text/plain": [
       "12"
      ]
     },
     "metadata": {},
     "output_type": "display_data"
    }
   ],
   "source": [
    "# Example of Public\n",
    "\n",
    "class Student:\n",
    "  schoolName = \"Ram Narayan Aryan\"\n",
    "\n",
    "  def __init__(self, name, age):\n",
    "    self.name = name\n",
    "    self.age = age\n",
    "\n",
    "stu = Student(\"Rahul\", 12)\n",
    "\n",
    "display(stu.schoolName, stu.name, stu.age)"
   ]
  },
  {
   "cell_type": "markdown",
   "metadata": {
    "id": "-fR1sWSktZIu"
   },
   "source": [
    "#### Protected Members\n",
    "\n",
    "Protected members of a class are accessible from within the class and are also available to its sub-classes. No other environment is permitted access to it. This enables specific resources of the parent class to be inherited by the child class.\n",
    "\n",
    "Python's convention to make an instance variable **protected** is to add a prefix _ (single underscore) to it. This effectively prevents it from being accessed unless it is from within a sub-class."
   ]
  },
  {
   "cell_type": "code",
   "execution_count": 62,
   "metadata": {
    "colab": {
     "base_uri": "https://localhost:8080/"
    },
    "id": "XgrLlZeNtggU",
    "outputId": "78c7ad9a-69ff-49d7-bacb-5ba6c35a77cd"
   },
   "outputs": [
    {
     "name": "stdout",
     "output_type": "stream",
     "text": [
      "Aryan School of commerce\n",
      "14\n"
     ]
    }
   ],
   "source": [
    "class Student:\n",
    "  _schoolName = \"Aryan School of commerce\"\n",
    "\n",
    "  def __init__(self, name, age):\n",
    "    self.name = name\n",
    "    self._age = age\n",
    "\n",
    "stu1 = Student(\"Radhe\", 14)\n",
    "print(stu1._schoolName)\n",
    "print(stu1._age)"
   ]
  },
  {
   "cell_type": "markdown",
   "metadata": {
    "id": "pMV8mevBuUpv"
   },
   "source": [
    "In fact, this doesn't prevent instance variables from accessing or modifying the instance. You can still perform the following operations:"
   ]
  },
  {
   "cell_type": "markdown",
   "metadata": {
    "id": "81WbQQsyuZzk"
   },
   "source": [
    "However, you can define a property using property decorator and make it protected, as shown below."
   ]
  },
  {
   "cell_type": "code",
   "execution_count": 63,
   "metadata": {
    "colab": {
     "base_uri": "https://localhost:8080/",
     "height": 35
    },
    "id": "VNuzWRtvugGT",
    "outputId": "e720eca3-6350-4465-9363-230a916bce54"
   },
   "outputs": [
    {
     "data": {
      "text/plain": [
       "'Mohan'"
      ]
     },
     "execution_count": 63,
     "metadata": {},
     "output_type": "execute_result"
    }
   ],
   "source": [
    "class Student:\n",
    "\n",
    "  def __init__(self, name):\n",
    "    self._name = name\n",
    "  \n",
    "  @property\n",
    "  def name(self):\n",
    "    return self._name\n",
    "  \n",
    "  @name.setter\n",
    "  def name(self, newname):\n",
    "    self._name = newname\n",
    "\n",
    "\n",
    "stu2 = Student(\"Rahul\")\n",
    "\n",
    "stu2._name = \"Mohan\"\n",
    "stu2._name\n",
    "\n",
    "\n"
   ]
  },
  {
   "cell_type": "markdown",
   "metadata": {
    "id": "07hNigXVvAqS"
   },
   "source": [
    "In python there is no such as protected and private but we use convention single _ for protected and __ for private so that if any developer seeing this he able to understand he doesn't need to play with those methods or class"
   ]
  },
  {
   "cell_type": "markdown",
   "metadata": {
    "id": "nFVKe_Xfz3AZ"
   },
   "source": [
    "### Python *args and **kwargs\n",
    "\n",
    "In Python, we can pass a variable number of arguments to a function using special symbols. There are two special symbols:\n",
    "\n",
    "\\*args (Non Keyword Arguments)\n",
    "**kwargs (Keyword Arguments)\n",
    "\n",
    "We use \\*args and \\**kwargs as an argument when we are unsure about the number of arguments to pass in the functions."
   ]
  },
  {
   "cell_type": "code",
   "execution_count": 64,
   "metadata": {
    "colab": {
     "base_uri": "https://localhost:8080/"
    },
    "id": "-536ZyBDz8tK",
    "outputId": "bfd73220-044f-4f09-bfd9-54e77d6f0020"
   },
   "outputs": [
    {
     "name": "stdout",
     "output_type": "stream",
     "text": [
      "2\n",
      "6\n",
      "14\n"
     ]
    }
   ],
   "source": [
    "# Use of *args\n",
    "\n",
    "def adder(*nums):\n",
    "  result = 0\n",
    "\n",
    "  for item in nums:\n",
    "    result += item\n",
    "  return result\n",
    "\n",
    "print(adder(2))\n",
    "print(adder(2,4))\n",
    "print(adder(2,4, 8))"
   ]
  },
  {
   "cell_type": "markdown",
   "metadata": {
    "id": "K2BxTieG1QOM"
   },
   "source": [
    "#### Python \\**kwargs\n",
    "Python passes variable length non keyword argument to function using *args but we cannot use this to pass keyword argument. For this problem Python has got a solution called **kwargs, it allows us to pass the variable length of keyword arguments to the function.\n",
    "\n",
    "In the function, we use the double asterisk ** before the parameter name to denote this type of argument. The arguments are passed as a dictionary and these arguments make a dictionary inside function with name same as the parameter excluding double asterisk **."
   ]
  },
  {
   "cell_type": "code",
   "execution_count": 1,
   "metadata": {
    "colab": {
     "base_uri": "https://localhost:8080/"
    },
    "id": "LN3IhBz51VTq",
    "outputId": "0475ea0c-30e0-4d6d-b88b-e54a31cc46eb"
   },
   "outputs": [
    {
     "name": "stdout",
     "output_type": "stream",
     "text": [
      "Checking the data format <class 'dict'>\n"
     ]
    }
   ],
   "source": [
    "def intro(**data):\n",
    "  print(\"Checking the data format\", type(data))\n",
    "\n",
    "  for key, value in data.items():\n",
    "    print(key, value)\n",
    "\n",
    "# intro(name=\"Kewal\", age = 20, college = \"Aryan\")\n",
    "intro()"
   ]
  },
  {
   "cell_type": "markdown",
   "metadata": {},
   "source": [
    "### Taking User input"
   ]
  },
  {
   "cell_type": "code",
   "execution_count": 3,
   "metadata": {},
   "outputs": [
    {
     "name": "stdout",
     "output_type": "stream",
     "text": [
      "Himanshu Kesarvani How r u\n"
     ]
    }
   ],
   "source": [
    "user_input = input()\n",
    "print(user_input)"
   ]
  },
  {
   "cell_type": "markdown",
   "metadata": {
    "id": "fceAbu1h1t5F"
   },
   "source": [
    "# End"
   ]
  }
 ],
 "metadata": {
  "colab": {
   "name": "LearningPython.ipynb",
   "provenance": []
  },
  "kernelspec": {
   "display_name": "Python 3",
   "language": "python",
   "name": "python3"
  },
  "language_info": {
   "codemirror_mode": {
    "name": "ipython",
    "version": 3
   },
   "file_extension": ".py",
   "mimetype": "text/x-python",
   "name": "python",
   "nbconvert_exporter": "python",
   "pygments_lexer": "ipython3",
   "version": "3.11.1"
  }
 },
 "nbformat": 4,
 "nbformat_minor": 4
}
